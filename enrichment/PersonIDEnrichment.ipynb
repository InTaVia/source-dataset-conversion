{
  "nbformat": 4,
  "nbformat_minor": 0,
  "metadata": {
    "colab": {
      "provenance": [],
      "collapsed_sections": [],
      "authorship_tag": "ABX9TyPGWcxigUwtCyvjY9LqujaL"
    },
    "kernelspec": {
      "name": "python3",
      "display_name": "Python 3"
    },
    "language_info": {
      "name": "python"
    }
  },
  "cells": [
    {
      "cell_type": "markdown",
      "source": [
        "Add additional external person ID's from Wikidata endpoint using source data's owl:sameAs links:\n",
        "\n",
        "*   Wikidata ID -> GND & VIAF (BS, Bionet)\n",
        "*   GND ID -> Wikidata & VIAF (APIS)\n",
        "*   SBI ID -> Wikidata, GND & VIAF (SBI)"
      ],
      "metadata": {
        "id": "eHWOhVGdF3sh"
      }
    },
    {
      "cell_type": "markdown",
      "source": [
        "Install the dependencies:"
      ],
      "metadata": {
        "id": "cI_P-JHlHGY2"
      }
    },
    {
      "cell_type": "code",
      "execution_count": 2,
      "metadata": {
        "colab": {
          "base_uri": "https://localhost:8080/"
        },
        "id": "aiyemyAdGtf3",
        "outputId": "2481c669-374c-46fc-8d51-ed490ac2da15"
      },
      "outputs": [
        {
          "output_type": "stream",
          "name": "stdout",
          "text": [
            "Looking in indexes: https://pypi.org/simple, https://us-python.pkg.dev/colab-wheels/public/simple/\n",
            "Collecting SPARQLWrapper\n",
            "  Downloading SPARQLWrapper-2.0.0-py3-none-any.whl (28 kB)\n",
            "Collecting rdflib\n",
            "  Downloading rdflib-6.2.0-py3-none-any.whl (500 kB)\n",
            "\u001b[K     |████████████████████████████████| 500 kB 5.9 MB/s \n",
            "\u001b[?25hCollecting isodate\n",
            "  Downloading isodate-0.6.1-py2.py3-none-any.whl (41 kB)\n",
            "\u001b[K     |████████████████████████████████| 41 kB 549 kB/s \n",
            "\u001b[?25hRequirement already satisfied: importlib-metadata in /usr/local/lib/python3.7/dist-packages (from rdflib) (4.12.0)\n",
            "Requirement already satisfied: setuptools in /usr/local/lib/python3.7/dist-packages (from rdflib) (57.4.0)\n",
            "Requirement already satisfied: pyparsing in /usr/local/lib/python3.7/dist-packages (from rdflib) (3.0.9)\n",
            "Requirement already satisfied: zipp>=0.5 in /usr/local/lib/python3.7/dist-packages (from importlib-metadata->rdflib) (3.8.1)\n",
            "Requirement already satisfied: typing-extensions>=3.6.4 in /usr/local/lib/python3.7/dist-packages (from importlib-metadata->rdflib) (4.1.1)\n",
            "Requirement already satisfied: six in /usr/local/lib/python3.7/dist-packages (from isodate->rdflib) (1.15.0)\n",
            "Installing collected packages: isodate, rdflib, SPARQLWrapper\n",
            "Successfully installed SPARQLWrapper-2.0.0 isodate-0.6.1 rdflib-6.2.0\n"
          ]
        }
      ],
      "source": [
        "!pip install SPARQLWrapper rdflib\n",
        "from SPARQLWrapper import SPARQLWrapper, JSON\n",
        "from getpass import getpass\n",
        "import itertools\n",
        "from rdflib import Graph, URIRef, OWL"
      ]
    },
    {
      "cell_type": "markdown",
      "source": [
        "Input Intavia SPARQL endpoint credentials:"
      ],
      "metadata": {
        "id": "_J1DUOOcMnNf"
      }
    },
    {
      "cell_type": "code",
      "source": [
        "user = input(\"Username: \")\n",
        "password = getpass(\"Password: \")"
      ],
      "metadata": {
        "colab": {
          "base_uri": "https://localhost:8080/"
        },
        "id": "3x0EfDu9MtNl",
        "outputId": "550dff3a-bad4-4a80-e739-a332dd4ca87a"
      },
      "execution_count": 3,
      "outputs": [
        {
          "name": "stdout",
          "output_type": "stream",
          "text": [
            "Username: intavia\n",
            "Password: ··········\n"
          ]
        }
      ]
    },
    {
      "cell_type": "markdown",
      "source": [
        "Fetch person URIs and already existing external ID's:"
      ],
      "metadata": {
        "id": "oCT4Ut9FHKkz"
      }
    },
    {
      "cell_type": "code",
      "source": [
        "PREFIXES = \"\"\"\n",
        "PREFIX bds: <http://www.bigdata.com/rdf/search#>\n",
        "PREFIX crm: <http://www.cidoc-crm.org/cidoc-crm/>\n",
        "PREFIX bioc: <http://ldf.fi/schema/bioc/>\n",
        "PREFIX rdfs: <http://www.w3.org/2000/01/rdf-schema#>\n",
        "PREFIX idm: <https://www.intavia.eu/idm/>\n",
        "PREFIX idmcore: <http://www.intavia.eu/idm-core/>\n",
        "PREFIX idmcores: <https://www.intavia.eu/idm-core/>\n",
        "PREFIX owl: <http://www.w3.org/2002/07/owl#>\n",
        "PREFIX wdt: <http://www.wikidata.org/prop/direct/>\n",
        "\"\"\"\n",
        "\n",
        "sparql = SPARQLWrapper(\"https://triplestore.acdh-dev.oeaw.ac.at/intavia/sparql\")\n",
        "\n",
        "sparql.setQuery(PREFIXES + \"\"\"\n",
        "SELECT * {\n",
        "  # Existing sameAs links in Intavia data:\n",
        "  #  APIS (graph: http://apis.acdh.oeaw.ac.at/data -> GND (URI ns: https://d-nb.info/gnd/)\n",
        "  #  BS (graph: http://ldf.fi/nbf/data) -> Wikidata (URI ns: http://www.wikidata.org/entity/)\n",
        "  #  SBI (graph: http://www.intavia.eu/sbi) -> Slovenska biografija (URI ns: https://www.slovenska-biografija.si/oseba/) \n",
        "  #  BiographyNet (graph: http://data.biographynet.nl/rdf/data) -> Wikidata (URI ns: http://www.wikidata.org/entity/)\n",
        "\n",
        "  { GRAPH ?graph {\n",
        "      # Don't include the previous result of the person id enrichment (this script)\n",
        "      FILTER (STR(?graph) != \"http://www.intavia.eu/person-id-enrichment\")\n",
        "\n",
        "      VALUES ?class { crm:E21_Person idmcore:Person_Proxy }\n",
        "      ?s a ?class ;\n",
        "         owl:sameAs ?ext_uri .\n",
        "    }\n",
        "  }\n",
        "  UNION\n",
        "  # Bionet\n",
        "  { ?ext_uri <http://www.wikidata.org/prop/direct/651>/^<http://www.intavia.eu/idm-core/person_proxy_for> ?s . }\n",
        " \n",
        "  # Filter out sameAs links to redundant national data sources\n",
        "  FILTER (!STRSTARTS(STR(?ext_uri), \"http://ldf.fi/nbf/\"))\n",
        "  FILTER (!STRSTARTS(STR(?ext_uri), \"https://apis.acdh.oeaw.ac.at/\"))\n",
        "\n",
        "  BIND (IF (STRSTARTS(STR(?ext_uri), \"https://www.slovenska-biografija.si/oseba/\"), \"https://www.slovenska-biografija.si/oseba/\", REPLACE(STR(?ext_uri), \"[^/]+$\", \"\")) as ?ext_ns)\n",
        "  BIND (IF (STRSTARTS(STR(?ext_uri), \"https://www.slovenska-biografija.si/oseba/\"), REPLACE(REPLACE(STR(?ext_uri), \"^https://www.slovenska-biografija.si/oseba/sbi\", \"\"), \"/\", \"\"), REPLACE(STR(?ext_uri), \"^.+/\", \"\")) AS ?ext_id)\n",
        "}\n",
        "#LIMIT 1\n",
        "\"\"\")\n",
        "\n",
        "sparql.setReturnFormat(JSON)\n",
        "sparql.setMethod('POST')\n",
        "sparql.setCredentials(user, password)\n",
        "results = sparql.query().convert()\n",
        "res = results[\"results\"][\"bindings\"]\n",
        "print(f\"{len(res)} results\")\n",
        "print(f\"Datafields {results['head']['vars']}\")\n",
        "for ob in res[:10]:\n",
        "  print(ob)"
      ],
      "metadata": {
        "colab": {
          "base_uri": "https://localhost:8080/"
        },
        "id": "hn25clUmHXWJ",
        "outputId": "a1701b33-4c47-4597-ed2a-db29cb4184a6"
      },
      "execution_count": 28,
      "outputs": [
        {
          "output_type": "stream",
          "name": "stdout",
          "text": [
            "146089 results\n",
            "Datafields ['graph', 'class', 's', 'ext_uri', 'ext_ns', 'ext_id']\n",
            "{'ext_uri': {'type': 'uri', 'value': 'http://www.wikidata.org/entity/Q6149252'}, 's': {'type': 'uri', 'value': 'http://data.biographynet.nl/rdf/PersonDes-11046340_01'}, 'ext_ns': {'type': 'literal', 'value': 'http://www.wikidata.org/entity/'}, 'ext_id': {'type': 'literal', 'value': 'Q6149252'}}\n",
            "{'ext_uri': {'type': 'uri', 'value': 'http://www.wikidata.org/entity/Q6149252'}, 's': {'type': 'uri', 'value': 'http://data.biographynet.nl/rdf/PersonDes-11046340_02'}, 'ext_ns': {'type': 'literal', 'value': 'http://www.wikidata.org/entity/'}, 'ext_id': {'type': 'literal', 'value': 'Q6149252'}}\n",
            "{'ext_uri': {'type': 'uri', 'value': 'http://www.wikidata.org/entity/Q6150406'}, 's': {'type': 'uri', 'value': 'http://data.biographynet.nl/rdf/PersonDes-11046358_01'}, 'ext_ns': {'type': 'literal', 'value': 'http://www.wikidata.org/entity/'}, 'ext_id': {'type': 'literal', 'value': 'Q6150406'}}\n",
            "{'ext_uri': {'type': 'uri', 'value': 'http://www.wikidata.org/entity/Q6150406'}, 's': {'type': 'uri', 'value': 'http://data.biographynet.nl/rdf/PersonDes-11046358_02'}, 'ext_ns': {'type': 'literal', 'value': 'http://www.wikidata.org/entity/'}, 'ext_id': {'type': 'literal', 'value': 'Q6150406'}}\n",
            "{'ext_uri': {'type': 'uri', 'value': 'http://www.wikidata.org/entity/Q6150406'}, 's': {'type': 'uri', 'value': 'http://data.biographynet.nl/rdf/PersonDes-11046358_03'}, 'ext_ns': {'type': 'literal', 'value': 'http://www.wikidata.org/entity/'}, 'ext_id': {'type': 'literal', 'value': 'Q6150406'}}\n",
            "{'ext_uri': {'type': 'uri', 'value': 'http://www.wikidata.org/entity/Q6150406'}, 's': {'type': 'uri', 'value': 'http://data.biographynet.nl/rdf/PersonDes-11046358_04'}, 'ext_ns': {'type': 'literal', 'value': 'http://www.wikidata.org/entity/'}, 'ext_id': {'type': 'literal', 'value': 'Q6150406'}}\n",
            "{'ext_uri': {'type': 'uri', 'value': 'http://www.wikidata.org/entity/Q30893600'}, 's': {'type': 'uri', 'value': 'http://data.biographynet.nl/rdf/PersonDes-11046368_01'}, 'ext_ns': {'type': 'literal', 'value': 'http://www.wikidata.org/entity/'}, 'ext_id': {'type': 'literal', 'value': 'Q30893600'}}\n",
            "{'ext_uri': {'type': 'uri', 'value': 'http://www.wikidata.org/entity/Q30893600'}, 's': {'type': 'uri', 'value': 'http://data.biographynet.nl/rdf/PersonDes-11046368_02'}, 'ext_ns': {'type': 'literal', 'value': 'http://www.wikidata.org/entity/'}, 'ext_id': {'type': 'literal', 'value': 'Q30893600'}}\n",
            "{'ext_uri': {'type': 'uri', 'value': 'http://www.wikidata.org/entity/Q30893600'}, 's': {'type': 'uri', 'value': 'http://data.biographynet.nl/rdf/PersonDes-11046368_03'}, 'ext_ns': {'type': 'literal', 'value': 'http://www.wikidata.org/entity/'}, 'ext_id': {'type': 'literal', 'value': 'Q30893600'}}\n",
            "{'ext_uri': {'type': 'uri', 'value': 'http://www.wikidata.org/entity/Q30893600'}, 's': {'type': 'uri', 'value': 'http://data.biographynet.nl/rdf/PersonDes-11046368_04'}, 'ext_ns': {'type': 'literal', 'value': 'http://www.wikidata.org/entity/'}, 'ext_id': {'type': 'literal', 'value': 'Q30893600'}}\n"
          ]
        }
      ]
    },
    {
      "cell_type": "code",
      "source": [
        "wikidata_ids = dict()\n",
        "gnd_ids = dict()\n",
        "sbi_ids = dict()\n",
        "\n",
        "for ob in res:\n",
        "  if (ob['ext_ns']['value'] == \"http://www.wikidata.org/entity/\"):\n",
        "    if ob['ext_uri']['value'] not in wikidata_ids:\n",
        "      wikidata_ids[ob['ext_uri']['value']] = list()\n",
        "    wikidata_ids[ob['ext_uri']['value']].append(ob['s']['value'])\n",
        "  elif (ob['ext_ns']['value'] == \"https://d-nb.info/gnd/\"):\n",
        "    if ob['ext_id']['value'] not in gnd_ids:\n",
        "      gnd_ids[ob['ext_id']['value']] = list()\n",
        "    gnd_ids[ob['ext_id']['value']].append(ob['s']['value'])\n",
        "  elif (ob['ext_ns']['value'] == \"https://www.slovenska-biografija.si/oseba/\"):\n",
        "    if ob['ext_id']['value'] not in sbi_ids:\n",
        "      sbi_ids[ob['ext_id']['value']] = list()\n",
        "    sbi_ids[ob['ext_id']['value']].append(ob['s']['value'])\n",
        "\n",
        "print(len(wikidata_ids))"
      ],
      "metadata": {
        "id": "t2-o5JmDXY21",
        "colab": {
          "base_uri": "https://localhost:8080/"
        },
        "outputId": "2959ede2-e28c-44c3-cacf-43e5e27dd776"
      },
      "execution_count": 19,
      "outputs": [
        {
          "output_type": "stream",
          "name": "stdout",
          "text": [
            "29281\n"
          ]
        }
      ]
    },
    {
      "cell_type": "markdown",
      "source": [
        "Get Wikidata -> GND ID's:"
      ],
      "metadata": {
        "id": "gb6zUSVQUh0V"
      }
    },
    {
      "cell_type": "code",
      "source": [
        "# Wikidata endpoint doesn't handle ~30 000 inline URIs in the query, so split the query:\n",
        "\n",
        "sparql = SPARQLWrapper(\"https://query.wikidata.org/sparql\")\n",
        "sparql.setQuery(PREFIXES + \"\"\"\n",
        "SELECT * {\n",
        "  VALUES ?wikidata_uri {<\"\"\" + '> <'.join(dict(itertools.islice(wikidata_ids.items(), 15000)).keys()) + \"\"\">}\n",
        "  ?wikidata_uri wdt:P227 ?gnd_id .\n",
        "  BIND (URI(CONCAT(\"https://d-nb.info/gnd/\", ?gnd_id)) AS ?gnd_uri)   \n",
        "}\n",
        "#LIMIT 1\n",
        "\"\"\")\n",
        "\n",
        "sparql.setReturnFormat(JSON)\n",
        "sparql.setMethod('POST')\n",
        "results = sparql.query().convert()\n",
        "res_wikidata_to_gnd = results[\"results\"][\"bindings\"]\n",
        "print(f\"{len(res_wikidata_to_gnd)} results\")\n",
        "\n",
        "sparql.setQuery(PREFIXES + \"\"\"\n",
        "SELECT * {\n",
        "  VALUES ?wikidata_uri {<\"\"\" + '> <'.join(dict(itertools.islice(wikidata_ids.items(), 15000, len(wikidata_ids))).keys()) + \"\"\">}\n",
        "  ?wikidata_uri wdt:P227 ?gnd_id .\n",
        "  BIND (URI(CONCAT(\"https://d-nb.info/gnd/\", ?gnd_id)) AS ?gnd_uri)   \n",
        "}\n",
        "#LIMIT 1\n",
        "\"\"\")\n",
        "\n",
        "sparql.setReturnFormat(JSON)\n",
        "sparql.setMethod('POST')\n",
        "results = sparql.query().convert()\n",
        "print(f'{len(results[\"results\"][\"bindings\"])} results')\n",
        "res_wikidata_to_gnd += results[\"results\"][\"bindings\"]"
      ],
      "metadata": {
        "colab": {
          "base_uri": "https://localhost:8080/"
        },
        "id": "yGZbeVQePztQ",
        "outputId": "a027590d-de60-4991-b84b-4f9a57497a7e"
      },
      "execution_count": 6,
      "outputs": [
        {
          "output_type": "stream",
          "name": "stdout",
          "text": [
            "4899 results\n",
            "4454 results\n"
          ]
        }
      ]
    },
    {
      "cell_type": "markdown",
      "source": [
        "Get Wikidata -> VIAF ID's:"
      ],
      "metadata": {
        "id": "D47KG4M-Xlkz"
      }
    },
    {
      "cell_type": "code",
      "source": [
        "# Wikidata endpoint doesn't handle ~30 000 inline URIs in the query, so split the query:\n",
        "\n",
        "sparql = SPARQLWrapper(\"https://query.wikidata.org/sparql\")\n",
        "sparql.setQuery(PREFIXES + \"\"\"\n",
        "SELECT * {\n",
        "  VALUES ?wikidata_uri {<\"\"\" + '> <'.join(dict(itertools.islice(wikidata_ids.items(), 15000)).keys()) + \"\"\">}\n",
        "  ?wikidata_uri wdt:P214 ?viaf_id . \n",
        "  BIND (URI(CONCAT(\"https://viaf.org/viaf/\", ?viaf_id)) AS ?viaf_uri)\n",
        "}\n",
        "#LIMIT 1\n",
        "\"\"\")\n",
        "\n",
        "sparql.setReturnFormat(JSON)\n",
        "sparql.setMethod('POST')\n",
        "results = sparql.query().convert()\n",
        "res_wikidata_to_viaf = results[\"results\"][\"bindings\"]\n",
        "print(f\"{len(res_wikidata_to_viaf)} results\")\n",
        "\n",
        "sparql.setQuery(PREFIXES + \"\"\"\n",
        "SELECT * {\n",
        "  VALUES ?wikidata_uri {<\"\"\" + '> <'.join(dict(itertools.islice(wikidata_ids.items(), 15000, len(wikidata_ids))).keys()) + \"\"\">}\n",
        "  ?wikidata_uri wdt:P214 ?viaf_id . \n",
        "  BIND (URI(CONCAT(\"https://viaf.org/viaf/\", ?viaf_id)) AS ?viaf_uri)\n",
        "}\n",
        "#LIMIT 1\n",
        "\"\"\")\n",
        "\n",
        "sparql.setReturnFormat(JSON)\n",
        "sparql.setMethod('POST')\n",
        "results = sparql.query().convert()\n",
        "\n",
        "print(f'{len(results[\"results\"][\"bindings\"])} results')\n",
        "res_wikidata_to_viaf += results[\"results\"][\"bindings\"]"
      ],
      "metadata": {
        "colab": {
          "base_uri": "https://localhost:8080/"
        },
        "id": "3UAYUM0BXlyY",
        "outputId": "6bdf420d-dfc1-4899-c7cd-253c7696103c"
      },
      "execution_count": 8,
      "outputs": [
        {
          "output_type": "stream",
          "name": "stdout",
          "text": [
            "9361 results\n",
            "9230 results\n"
          ]
        }
      ]
    },
    {
      "cell_type": "markdown",
      "source": [
        "Get GND -> Wikidata ID's:"
      ],
      "metadata": {
        "id": "tOfsuw_8YRL7"
      }
    },
    {
      "cell_type": "code",
      "source": [
        "sparql = SPARQLWrapper(\"https://query.wikidata.org/sparql\")\n",
        "sparql.setQuery(PREFIXES + \"\"\"\n",
        "SELECT * {\n",
        "  VALUES ?gnd_id {'\"\"\" + \"' '\".join(gnd_ids.keys()) + \"\"\"'}\n",
        "  ?wikidata_uri wdt:P227 ?gnd_id .\n",
        "}\n",
        "#LIMIT 1\n",
        "\"\"\")\n",
        "\n",
        "sparql.setReturnFormat(JSON)\n",
        "sparql.setMethod('POST')\n",
        "results = sparql.query().convert()\n",
        "res_gnd_to_wikidata = results[\"results\"][\"bindings\"]\n",
        "print(f\"{len(res_gnd_to_wikidata)} results\") "
      ],
      "metadata": {
        "colab": {
          "base_uri": "https://localhost:8080/"
        },
        "id": "g0V1O95EYTYH",
        "outputId": "839dfdd3-5758-496a-83f9-784eeda02b9c"
      },
      "execution_count": 9,
      "outputs": [
        {
          "output_type": "stream",
          "name": "stdout",
          "text": [
            "15465 results\n"
          ]
        }
      ]
    },
    {
      "cell_type": "markdown",
      "source": [
        "Get GND -> VIAF ID's:"
      ],
      "metadata": {
        "id": "ujRbeDr2Z7kn"
      }
    },
    {
      "cell_type": "code",
      "source": [
        "sparql = SPARQLWrapper(\"https://query.wikidata.org/sparql\")\n",
        "sparql.setQuery(PREFIXES + \"\"\"\n",
        "SELECT * {\n",
        "  VALUES ?gnd_id {'\"\"\" + \"' '\".join(gnd_ids.keys()) + \"\"\"'}\n",
        "  ?wikidata_uri wdt:P227 ?gnd_id ;\n",
        "                wdt:P214 ?viaf_id . \n",
        "  BIND (URI(CONCAT(\"https://viaf.org/viaf/\", ?viaf_id)) AS ?viaf_uri)\n",
        "}\n",
        "#LIMIT 1\n",
        "\"\"\")\n",
        "\n",
        "sparql.setReturnFormat(JSON)\n",
        "sparql.setMethod('POST')\n",
        "results = sparql.query().convert()\n",
        "res_gnd_to_viaf = results[\"results\"][\"bindings\"]\n",
        "print(f\"{len(res_gnd_to_viaf)} results\") "
      ],
      "metadata": {
        "colab": {
          "base_uri": "https://localhost:8080/"
        },
        "id": "Lrj_ZuCQZ9Uq",
        "outputId": "85a527b4-5902-4e68-8719-d0bd4df4f195"
      },
      "execution_count": 10,
      "outputs": [
        {
          "output_type": "stream",
          "name": "stdout",
          "text": [
            "15726 results\n"
          ]
        }
      ]
    },
    {
      "cell_type": "markdown",
      "source": [
        "Get SBI -> Wikidata ID's:"
      ],
      "metadata": {
        "id": "KdUrKlzGBIY8"
      }
    },
    {
      "cell_type": "code",
      "source": [
        "sparql = SPARQLWrapper(\"https://query.wikidata.org/sparql\")\n",
        "sparql.setQuery(PREFIXES + \"\"\"\n",
        "SELECT * {\n",
        "  VALUES ?sbi_id {'\"\"\" + \"' '\".join(sbi_ids.keys()) + \"\"\"'}\n",
        "  ?wikidata_uri wdt:P1254 ?sbi_id .\n",
        "}\n",
        "#LIMIT 1\n",
        "\"\"\")\n",
        "\n",
        "sparql.setReturnFormat(JSON)\n",
        "sparql.setMethod('POST')\n",
        "results = sparql.query().convert()\n",
        "res_sbi_to_wikidata = results[\"results\"][\"bindings\"]\n",
        "print(f\"{len(res_sbi_to_wikidata)} results\")"
      ],
      "metadata": {
        "colab": {
          "base_uri": "https://localhost:8080/"
        },
        "id": "iKuh4OTqBIiT",
        "outputId": "043ef6f2-e933-4427-823b-f4298a59cf9c"
      },
      "execution_count": 12,
      "outputs": [
        {
          "output_type": "stream",
          "name": "stdout",
          "text": [
            "7841 results\n"
          ]
        }
      ]
    },
    {
      "cell_type": "markdown",
      "source": [
        "Get SBI -> GND ID'S:"
      ],
      "metadata": {
        "id": "uLLnJJviDJFK"
      }
    },
    {
      "cell_type": "code",
      "source": [
        "sparql = SPARQLWrapper(\"https://query.wikidata.org/sparql\")\n",
        "sparql.setQuery(PREFIXES + \"\"\"\n",
        "SELECT * {\n",
        "  VALUES ?sbi_id {'\"\"\" + \"' '\".join(sbi_ids.keys()) + \"\"\"'}\n",
        "  ?wikidata_uri wdt:P1254 ?sbi_id ;\n",
        "                wdt:P227 ?gnd_id . \n",
        "  BIND (URI(CONCAT(\"https://d-nb.info/gnd/\", ?gnd_id)) AS ?gnd_uri)\n",
        "}\n",
        "#LIMIT 1\n",
        "\"\"\")\n",
        "\n",
        "sparql.setReturnFormat(JSON)\n",
        "sparql.setMethod('POST')\n",
        "results = sparql.query().convert()\n",
        "res_sbi_to_gnd = results[\"results\"][\"bindings\"]\n",
        "print(f\"{len(res_sbi_to_gnd)} results\")"
      ],
      "metadata": {
        "colab": {
          "base_uri": "https://localhost:8080/"
        },
        "id": "pSGv6MdbDLMB",
        "outputId": "e23208c3-1457-42df-97e1-a78060ef9db1"
      },
      "execution_count": 13,
      "outputs": [
        {
          "output_type": "stream",
          "name": "stdout",
          "text": [
            "1731 results\n"
          ]
        }
      ]
    },
    {
      "cell_type": "markdown",
      "source": [
        "Get SBI -> VIAF ID's:"
      ],
      "metadata": {
        "id": "Gec6L42oDLUt"
      }
    },
    {
      "cell_type": "code",
      "source": [
        "sparql = SPARQLWrapper(\"https://query.wikidata.org/sparql\")\n",
        "sparql.setQuery(PREFIXES + \"\"\"\n",
        "SELECT * {\n",
        "  VALUES ?sbi_id {'\"\"\" + \"' '\".join(sbi_ids.keys()) + \"\"\"'}\n",
        "  ?wikidata_uri wdt:P1254 ?sbi_id ;\n",
        "                wdt:P214 ?viaf_id . \n",
        "  BIND (URI(CONCAT(\"https://viaf.org/viaf/\", ?viaf_id)) AS ?viaf_uri)\n",
        "}\n",
        "#LIMIT 1\n",
        "\"\"\")\n",
        "\n",
        "sparql.setReturnFormat(JSON)\n",
        "sparql.setMethod('POST')\n",
        "results = sparql.query().convert()\n",
        "res_sbi_to_viaf = results[\"results\"][\"bindings\"]\n",
        "print(f\"{len(res_sbi_to_viaf)} results\") "
      ],
      "metadata": {
        "colab": {
          "base_uri": "https://localhost:8080/"
        },
        "id": "3cu38hujDPmp",
        "outputId": "361b2a59-434a-436c-8248-1af7e394e12c"
      },
      "execution_count": 14,
      "outputs": [
        {
          "output_type": "stream",
          "name": "stdout",
          "text": [
            "4024 results\n"
          ]
        }
      ]
    },
    {
      "cell_type": "markdown",
      "source": [
        "Write sameAs statements:"
      ],
      "metadata": {
        "id": "VnfWN4nebMCJ"
      }
    },
    {
      "cell_type": "code",
      "source": [
        "g = Graph()\n",
        "\n",
        "print(f\"{len(res_wikidata_to_gnd)} results\")\n",
        "for ob in res_wikidata_to_gnd[:10]:\n",
        "  print(ob)\n",
        "for ob in res_wikidata_to_gnd[:10]:\n",
        "  print(wikidata_ids[ob['wikidata_uri']['value']])\n",
        "  print(\" <same as> \" + ob['gnd_uri']['value'])\n",
        "for ob in res_wikidata_to_gnd:\n",
        "  for intavia_uri in wikidata_ids[ob['wikidata_uri']['value']]:\n",
        "    g.add((URIRef(intavia_uri), OWL.sameAs, URIRef(ob['gnd_uri']['value'])))\n",
        "\n",
        "print(f\"{len(res_wikidata_to_viaf)} results\")\n",
        "for ob in res_wikidata_to_viaf[:10]:\n",
        "  print(ob)\n",
        "for ob in res_wikidata_to_viaf[:10]:\n",
        "  print(wikidata_ids[ob['wikidata_uri']['value']])\n",
        "  print(\" <same as> \" + ob['viaf_uri']['value'])\n",
        "for ob in res_wikidata_to_viaf:\n",
        "  for intavia_uri in wikidata_ids[ob['wikidata_uri']['value']]:\n",
        "    g.add((URIRef(intavia_uri), OWL.sameAs, URIRef(ob['viaf_uri']['value'])))\n",
        "\n",
        "print(f\"{len(res_gnd_to_wikidata)} results\")\n",
        "for ob in res_gnd_to_wikidata[:10]:\n",
        "  print(ob)\n",
        "for ob in res_gnd_to_wikidata[:10]:\n",
        "  print(gnd_ids[ob['gnd_id']['value']])\n",
        "  print(\" <same as> \" + ob['wikidata_uri']['value'])\n",
        "for ob in res_gnd_to_wikidata:\n",
        "  for intavia_uri in gnd_ids[ob['gnd_id']['value']]:\n",
        "    g.add((URIRef(intavia_uri), OWL.sameAs, URIRef(ob['wikidata_uri']['value'])))\n",
        "\n",
        "print(f\"{len(res_gnd_to_viaf)} results\")\n",
        "for ob in res_gnd_to_viaf[:10]:\n",
        "  print(ob)\n",
        "for ob in res_gnd_to_viaf[:10]:\n",
        "  print(gnd_ids[ob['gnd_id']['value']])\n",
        "  print(\" <same as> \" + ob['viaf_uri']['value'])\n",
        "for ob in res_gnd_to_viaf:\n",
        "  for intavia_uri in gnd_ids[ob['gnd_id']['value']]:\n",
        "    g.add((URIRef(intavia_uri), OWL.sameAs, URIRef(ob['viaf_uri']['value'])))\n",
        "\n",
        "print(f\"{len(res_sbi_to_wikidata)} results\")\n",
        "for ob in res_sbi_to_wikidata[:10]:\n",
        "  print(ob)\n",
        "for ob in res_sbi_to_wikidata[:10]:\n",
        "  print(sbi_ids[ob['sbi_id']['value']])\n",
        "  print(\" <same as> \" + ob['wikidata_uri']['value'])\n",
        "for ob in res_sbi_to_wikidata:\n",
        "  for intavia_uri in sbi_ids[ob['sbi_id']['value']]:\n",
        "    g.add((URIRef(intavia_uri), OWL.sameAs, URIRef(ob['wikidata_uri']['value'])))\n",
        "\n",
        "print(f\"{len(res_sbi_to_gnd)} results\")\n",
        "for ob in res_sbi_to_gnd[:10]:\n",
        "  print(ob)\n",
        "for ob in res_sbi_to_gnd[:10]:\n",
        "  print(sbi_ids[ob['sbi_id']['value']])\n",
        "  print(\" <same as> \" + ob['gnd_uri']['value'])\n",
        "for ob in res_sbi_to_gnd:\n",
        "  for intavia_uri in sbi_ids[ob['sbi_id']['value']]:\n",
        "    g.add((URIRef(intavia_uri), OWL.sameAs, URIRef(ob['gnd_uri']['value'])))\n",
        "\n",
        "print(f\"{len(res_sbi_to_viaf)} results\")\n",
        "for ob in res_sbi_to_viaf[:10]:\n",
        "  print(ob)\n",
        "for ob in res_sbi_to_viaf[:10]:\n",
        "  print(sbi_ids[ob['sbi_id']['value']])\n",
        "  print(\" <same as> \" + ob['viaf_uri']['value'])\n",
        "for ob in res_sbi_to_viaf:\n",
        "  for intavia_uri in sbi_ids[ob['sbi_id']['value']]:\n",
        "    g.add((URIRef(intavia_uri), OWL.sameAs, URIRef(ob['viaf_uri']['value'])))\n",
        "\n",
        "print(len(g))\n",
        "\n",
        "g.serialize(\"intavia-person-id-enrichment.ttl\")"
      ],
      "metadata": {
        "colab": {
          "base_uri": "https://localhost:8080/"
        },
        "id": "M_GNxwnObMPr",
        "outputId": "8deb4f36-f402-40c6-bc0c-6aad62398a75"
      },
      "execution_count": 25,
      "outputs": [
        {
          "output_type": "stream",
          "name": "stdout",
          "text": [
            "9353 results\n",
            "{'wikidata_uri': {'type': 'uri', 'value': 'http://www.wikidata.org/entity/Q742'}, 'gnd_id': {'type': 'literal', 'value': '118597523'}, 'gnd_uri': {'type': 'uri', 'value': 'https://d-nb.info/gnd/118597523'}}\n",
            "{'wikidata_uri': {'type': 'uri', 'value': 'http://www.wikidata.org/entity/Q855'}, 'gnd_id': {'type': 'literal', 'value': '118642499'}, 'gnd_uri': {'type': 'uri', 'value': 'https://d-nb.info/gnd/118642499'}}\n",
            "{'wikidata_uri': {'type': 'uri', 'value': 'http://www.wikidata.org/entity/Q1043'}, 'gnd_id': {'type': 'literal', 'value': '118573349'}, 'gnd_uri': {'type': 'uri', 'value': 'https://d-nb.info/gnd/118573349'}}\n",
            "{'wikidata_uri': {'type': 'uri', 'value': 'http://www.wikidata.org/entity/Q1394'}, 'gnd_id': {'type': 'literal', 'value': '118640402'}, 'gnd_uri': {'type': 'uri', 'value': 'https://d-nb.info/gnd/118640402'}}\n",
            "{'wikidata_uri': {'type': 'uri', 'value': 'http://www.wikidata.org/entity/Q3098'}, 'gnd_id': {'type': 'literal', 'value': '1023037076'}, 'gnd_uri': {'type': 'uri', 'value': 'https://d-nb.info/gnd/1023037076'}}\n",
            "{'wikidata_uri': {'type': 'uri', 'value': 'http://www.wikidata.org/entity/Q4761'}, 'gnd_id': {'type': 'literal', 'value': '123062179'}, 'gnd_uri': {'type': 'uri', 'value': 'https://d-nb.info/gnd/123062179'}}\n",
            "{'wikidata_uri': {'type': 'uri', 'value': 'http://www.wikidata.org/entity/Q5582'}, 'gnd_id': {'type': 'literal', 'value': '118540416'}, 'gnd_uri': {'type': 'uri', 'value': 'https://d-nb.info/gnd/118540416'}}\n",
            "{'wikidata_uri': {'type': 'uri', 'value': 'http://www.wikidata.org/entity/Q5752'}, 'gnd_id': {'type': 'literal', 'value': '118567055'}, 'gnd_uri': {'type': 'uri', 'value': 'https://d-nb.info/gnd/118567055'}}\n",
            "{'wikidata_uri': {'type': 'uri', 'value': 'http://www.wikidata.org/entity/Q6353'}, 'gnd_id': {'type': 'literal', 'value': '118580973'}, 'gnd_uri': {'type': 'uri', 'value': 'https://d-nb.info/gnd/118580973'}}\n",
            "{'wikidata_uri': {'type': 'uri', 'value': 'http://www.wikidata.org/entity/Q6691'}, 'gnd_id': {'type': 'literal', 'value': '11855333X'}, 'gnd_uri': {'type': 'uri', 'value': 'https://d-nb.info/gnd/11855333X'}}\n",
            "['http://data.biographynet.nl/rdf/PersonDes-12420319_01', 'http://data.biographynet.nl/rdf/PersonDes-12420319_02', 'http://data.biographynet.nl/rdf/PersonDes-12420319_03', 'http://data.biographynet.nl/rdf/PersonDes-12420319_04']\n",
            " <same as> https://d-nb.info/gnd/118597523\n",
            "['http://www.intavia.eu/personproxy/bs/5551', 'http://www.intavia.eu/personproxy/bs/5551']\n",
            " <same as> https://d-nb.info/gnd/118642499\n",
            "['http://www.intavia.eu/personproxy/bs/6129', 'http://www.intavia.eu/personproxy/bs/6129']\n",
            " <same as> https://d-nb.info/gnd/118573349\n",
            "['http://www.intavia.eu/personproxy/bs/1105', 'http://www.intavia.eu/personproxy/bs/1105']\n",
            " <same as> https://d-nb.info/gnd/118640402\n",
            "['http://www.intavia.eu/personproxy/bs/4442', 'http://www.intavia.eu/personproxy/bs/4442']\n",
            " <same as> https://d-nb.info/gnd/1023037076\n",
            "['http://www.intavia.eu/personproxy/bs/2797', 'http://www.intavia.eu/personproxy/bs/2797']\n",
            " <same as> https://d-nb.info/gnd/123062179\n",
            "['http://data.biographynet.nl/rdf/PersonDes-32545490_01', 'http://data.biographynet.nl/rdf/PersonDes-32545490_02', 'http://data.biographynet.nl/rdf/PersonDes-32545490_03', 'http://data.biographynet.nl/rdf/PersonDes-32545490_04', 'http://data.biographynet.nl/rdf/PersonDes-32545490_05', 'http://data.biographynet.nl/rdf/PersonDes-32545490_06', 'http://data.biographynet.nl/rdf/PersonDes-32545490_07', 'http://data.biographynet.nl/rdf/PersonDes-32545490_08']\n",
            " <same as> https://d-nb.info/gnd/118540416\n",
            "['http://www.intavia.eu/personproxy/bs/2623', 'http://www.intavia.eu/personproxy/bs/2623']\n",
            " <same as> https://d-nb.info/gnd/118567055\n",
            "['http://data.biographynet.nl/rdf/PersonDes-10103184_06', 'http://data.biographynet.nl/rdf/PersonDes-10103184_07', 'http://data.biographynet.nl/rdf/PersonDes-10103184_08', 'http://data.biographynet.nl/rdf/PersonDes-10103184_09', 'http://data.biographynet.nl/rdf/PersonDes-10103184_10', 'http://data.biographynet.nl/rdf/PersonDes-10103184_11', 'http://data.biographynet.nl/rdf/PersonDes-10103184_12', 'http://data.biographynet.nl/rdf/PersonDes-10103184_13', 'http://data.biographynet.nl/rdf/PersonDes-10103184_14', 'http://data.biographynet.nl/rdf/PersonDes-10103184_15', 'http://data.biographynet.nl/rdf/PersonDes-10103184_16', 'http://data.biographynet.nl/rdf/PersonDes-10103184_01', 'http://data.biographynet.nl/rdf/PersonDes-10103184_02', 'http://data.biographynet.nl/rdf/PersonDes-10103184_03', 'http://data.biographynet.nl/rdf/PersonDes-10103184_04', 'http://data.biographynet.nl/rdf/PersonDes-10103184_05']\n",
            " <same as> https://d-nb.info/gnd/118580973\n",
            "['http://data.biographynet.nl/rdf/PersonDes-11060730_01', 'http://data.biographynet.nl/rdf/PersonDes-11060730_02', 'http://data.biographynet.nl/rdf/PersonDes-11060730_03', 'http://data.biographynet.nl/rdf/PersonDes-11060730_04']\n",
            " <same as> https://d-nb.info/gnd/11855333X\n",
            "18591 results\n",
            "{'wikidata_uri': {'type': 'uri', 'value': 'http://www.wikidata.org/entity/Q742'}, 'viaf_id': {'type': 'literal', 'value': '88809641'}, 'viaf_uri': {'type': 'uri', 'value': 'https://viaf.org/viaf/88809641'}}\n",
            "{'wikidata_uri': {'type': 'uri', 'value': 'http://www.wikidata.org/entity/Q855'}, 'viaf_id': {'type': 'literal', 'value': '101787139'}, 'viaf_uri': {'type': 'uri', 'value': 'https://viaf.org/viaf/101787139'}}\n",
            "{'wikidata_uri': {'type': 'uri', 'value': 'http://www.wikidata.org/entity/Q1043'}, 'viaf_id': {'type': 'literal', 'value': '34594730'}, 'viaf_uri': {'type': 'uri', 'value': 'https://viaf.org/viaf/34594730'}}\n",
            "{'wikidata_uri': {'type': 'uri', 'value': 'http://www.wikidata.org/entity/Q1394'}, 'viaf_id': {'type': 'literal', 'value': '7393146'}, 'viaf_uri': {'type': 'uri', 'value': 'https://viaf.org/viaf/7393146'}}\n",
            "{'wikidata_uri': {'type': 'uri', 'value': 'http://www.wikidata.org/entity/Q3098'}, 'viaf_id': {'type': 'literal', 'value': '316739239'}, 'viaf_uri': {'type': 'uri', 'value': 'https://viaf.org/viaf/316739239'}}\n",
            "{'wikidata_uri': {'type': 'uri', 'value': 'http://www.wikidata.org/entity/Q4761'}, 'viaf_id': {'type': 'literal', 'value': '37114950'}, 'viaf_uri': {'type': 'uri', 'value': 'https://viaf.org/viaf/37114950'}}\n",
            "{'wikidata_uri': {'type': 'uri', 'value': 'http://www.wikidata.org/entity/Q5582'}, 'viaf_id': {'type': 'literal', 'value': '9854560'}, 'viaf_uri': {'type': 'uri', 'value': 'https://viaf.org/viaf/9854560'}}\n",
            "{'wikidata_uri': {'type': 'uri', 'value': 'http://www.wikidata.org/entity/Q5752'}, 'viaf_id': {'type': 'literal', 'value': '66469467'}, 'viaf_uri': {'type': 'uri', 'value': 'https://viaf.org/viaf/66469467'}}\n",
            "{'wikidata_uri': {'type': 'uri', 'value': 'http://www.wikidata.org/entity/Q6353'}, 'viaf_id': {'type': 'literal', 'value': '30352476'}, 'viaf_uri': {'type': 'uri', 'value': 'https://viaf.org/viaf/30352476'}}\n",
            "{'wikidata_uri': {'type': 'uri', 'value': 'http://www.wikidata.org/entity/Q6691'}, 'viaf_id': {'type': 'literal', 'value': '224924963'}, 'viaf_uri': {'type': 'uri', 'value': 'https://viaf.org/viaf/224924963'}}\n",
            "['http://data.biographynet.nl/rdf/PersonDes-12420319_01', 'http://data.biographynet.nl/rdf/PersonDes-12420319_02', 'http://data.biographynet.nl/rdf/PersonDes-12420319_03', 'http://data.biographynet.nl/rdf/PersonDes-12420319_04']\n",
            " <same as> https://viaf.org/viaf/88809641\n",
            "['http://www.intavia.eu/personproxy/bs/5551', 'http://www.intavia.eu/personproxy/bs/5551']\n",
            " <same as> https://viaf.org/viaf/101787139\n",
            "['http://www.intavia.eu/personproxy/bs/6129', 'http://www.intavia.eu/personproxy/bs/6129']\n",
            " <same as> https://viaf.org/viaf/34594730\n",
            "['http://www.intavia.eu/personproxy/bs/1105', 'http://www.intavia.eu/personproxy/bs/1105']\n",
            " <same as> https://viaf.org/viaf/7393146\n",
            "['http://www.intavia.eu/personproxy/bs/4442', 'http://www.intavia.eu/personproxy/bs/4442']\n",
            " <same as> https://viaf.org/viaf/316739239\n",
            "['http://www.intavia.eu/personproxy/bs/2797', 'http://www.intavia.eu/personproxy/bs/2797']\n",
            " <same as> https://viaf.org/viaf/37114950\n",
            "['http://data.biographynet.nl/rdf/PersonDes-32545490_01', 'http://data.biographynet.nl/rdf/PersonDes-32545490_02', 'http://data.biographynet.nl/rdf/PersonDes-32545490_03', 'http://data.biographynet.nl/rdf/PersonDes-32545490_04', 'http://data.biographynet.nl/rdf/PersonDes-32545490_05', 'http://data.biographynet.nl/rdf/PersonDes-32545490_06', 'http://data.biographynet.nl/rdf/PersonDes-32545490_07', 'http://data.biographynet.nl/rdf/PersonDes-32545490_08']\n",
            " <same as> https://viaf.org/viaf/9854560\n",
            "['http://www.intavia.eu/personproxy/bs/2623', 'http://www.intavia.eu/personproxy/bs/2623']\n",
            " <same as> https://viaf.org/viaf/66469467\n",
            "['http://data.biographynet.nl/rdf/PersonDes-10103184_06', 'http://data.biographynet.nl/rdf/PersonDes-10103184_07', 'http://data.biographynet.nl/rdf/PersonDes-10103184_08', 'http://data.biographynet.nl/rdf/PersonDes-10103184_09', 'http://data.biographynet.nl/rdf/PersonDes-10103184_10', 'http://data.biographynet.nl/rdf/PersonDes-10103184_11', 'http://data.biographynet.nl/rdf/PersonDes-10103184_12', 'http://data.biographynet.nl/rdf/PersonDes-10103184_13', 'http://data.biographynet.nl/rdf/PersonDes-10103184_14', 'http://data.biographynet.nl/rdf/PersonDes-10103184_15', 'http://data.biographynet.nl/rdf/PersonDes-10103184_16', 'http://data.biographynet.nl/rdf/PersonDes-10103184_01', 'http://data.biographynet.nl/rdf/PersonDes-10103184_02', 'http://data.biographynet.nl/rdf/PersonDes-10103184_03', 'http://data.biographynet.nl/rdf/PersonDes-10103184_04', 'http://data.biographynet.nl/rdf/PersonDes-10103184_05']\n",
            " <same as> https://viaf.org/viaf/30352476\n",
            "['http://data.biographynet.nl/rdf/PersonDes-11060730_01', 'http://data.biographynet.nl/rdf/PersonDes-11060730_02', 'http://data.biographynet.nl/rdf/PersonDes-11060730_03', 'http://data.biographynet.nl/rdf/PersonDes-11060730_04']\n",
            " <same as> https://viaf.org/viaf/224924963\n",
            "15465 results\n",
            "{'gnd_id': {'type': 'literal', 'value': '118846493'}, 'wikidata_uri': {'type': 'uri', 'value': 'http://www.wikidata.org/entity/Q5454'}}\n",
            "{'gnd_id': {'type': 'literal', 'value': '130122955'}, 'wikidata_uri': {'type': 'uri', 'value': 'http://www.wikidata.org/entity/Q15944'}}\n",
            "{'gnd_id': {'type': 'literal', 'value': '131855549'}, 'wikidata_uri': {'type': 'uri', 'value': 'http://www.wikidata.org/entity/Q15803'}}\n",
            "{'gnd_id': {'type': 'literal', 'value': '118607499'}, 'wikidata_uri': {'type': 'uri', 'value': 'http://www.wikidata.org/entity/Q44032'}}\n",
            "{'gnd_id': {'type': 'literal', 'value': '118502255'}, 'wikidata_uri': {'type': 'uri', 'value': 'http://www.wikidata.org/entity/Q44972'}}\n",
            "{'gnd_id': {'type': 'literal', 'value': '118555006'}, 'wikidata_uri': {'type': 'uri', 'value': 'http://www.wikidata.org/entity/Q58586'}}\n",
            "{'gnd_id': {'type': 'literal', 'value': '118569597'}, 'wikidata_uri': {'type': 'uri', 'value': 'http://www.wikidata.org/entity/Q44927'}}\n",
            "{'gnd_id': {'type': 'literal', 'value': '118589768'}, 'wikidata_uri': {'type': 'uri', 'value': 'http://www.wikidata.org/entity/Q44911'}}\n",
            "{'gnd_id': {'type': 'literal', 'value': '118647652'}, 'wikidata_uri': {'type': 'uri', 'value': 'http://www.wikidata.org/entity/Q60657'}}\n",
            "{'gnd_id': {'type': 'literal', 'value': '118753444'}, 'wikidata_uri': {'type': 'uri', 'value': 'http://www.wikidata.org/entity/Q45580'}}\n",
            "['http://www.intavia.eu/apis/personproxy/90328', 'http://www.intavia.eu/apis/personproxy/90328']\n",
            " <same as> http://www.wikidata.org/entity/Q5454\n",
            "['http://www.intavia.eu/apis/personproxy/88034', 'http://www.intavia.eu/apis/personproxy/88034']\n",
            " <same as> http://www.wikidata.org/entity/Q15944\n",
            "['http://www.intavia.eu/apis/personproxy/74483', 'http://www.intavia.eu/apis/personproxy/74483']\n",
            " <same as> http://www.wikidata.org/entity/Q15803\n",
            "['http://www.intavia.eu/apis/personproxy/41572', 'http://www.intavia.eu/apis/personproxy/41572']\n",
            " <same as> http://www.wikidata.org/entity/Q44032\n",
            "['http://www.intavia.eu/apis/personproxy/84679', 'http://www.intavia.eu/apis/personproxy/84679']\n",
            " <same as> http://www.wikidata.org/entity/Q44972\n",
            "['http://www.intavia.eu/apis/personproxy/75584', 'http://www.intavia.eu/apis/personproxy/75584']\n",
            " <same as> http://www.wikidata.org/entity/Q58586\n",
            "['http://www.intavia.eu/apis/personproxy/65257', 'http://www.intavia.eu/apis/personproxy/65257']\n",
            " <same as> http://www.wikidata.org/entity/Q44927\n",
            "['http://www.intavia.eu/apis/personproxy/53354', 'http://www.intavia.eu/apis/personproxy/53354']\n",
            " <same as> http://www.wikidata.org/entity/Q44911\n",
            "['http://www.intavia.eu/apis/personproxy/90323', 'http://www.intavia.eu/apis/personproxy/90323']\n",
            " <same as> http://www.wikidata.org/entity/Q60657\n",
            "['http://www.intavia.eu/apis/personproxy/31553', 'http://www.intavia.eu/apis/personproxy/31553']\n",
            " <same as> http://www.wikidata.org/entity/Q45580\n",
            "15726 results\n",
            "{'gnd_id': {'type': 'literal', 'value': '117425230'}, 'wikidata_uri': {'type': 'uri', 'value': 'http://www.wikidata.org/entity/Q94346'}, 'viaf_id': {'type': 'literal', 'value': '5708406'}, 'viaf_uri': {'type': 'uri', 'value': 'https://viaf.org/viaf/5708406'}}\n",
            "{'gnd_id': {'type': 'literal', 'value': '116178434'}, 'wikidata_uri': {'type': 'uri', 'value': 'http://www.wikidata.org/entity/Q94361'}, 'viaf_id': {'type': 'literal', 'value': '35201531'}, 'viaf_uri': {'type': 'uri', 'value': 'https://viaf.org/viaf/35201531'}}\n",
            "{'gnd_id': {'type': 'literal', 'value': '117655988'}, 'wikidata_uri': {'type': 'uri', 'value': 'http://www.wikidata.org/entity/Q95203'}, 'viaf_id': {'type': 'literal', 'value': '13090207'}, 'viaf_uri': {'type': 'uri', 'value': 'https://viaf.org/viaf/13090207'}}\n",
            "{'gnd_id': {'type': 'literal', 'value': '1020248807'}, 'wikidata_uri': {'type': 'uri', 'value': 'http://www.wikidata.org/entity/Q96225'}, 'viaf_id': {'type': 'literal', 'value': '84859525'}, 'viaf_uri': {'type': 'uri', 'value': 'https://viaf.org/viaf/84859525'}}\n",
            "{'gnd_id': {'type': 'literal', 'value': '116106409'}, 'wikidata_uri': {'type': 'uri', 'value': 'http://www.wikidata.org/entity/Q96341'}, 'viaf_id': {'type': 'literal', 'value': '755210'}, 'viaf_uri': {'type': 'uri', 'value': 'https://viaf.org/viaf/755210'}}\n",
            "{'gnd_id': {'type': 'literal', 'value': '116089067'}, 'wikidata_uri': {'type': 'uri', 'value': 'http://www.wikidata.org/entity/Q97522'}, 'viaf_id': {'type': 'literal', 'value': '57357315'}, 'viaf_uri': {'type': 'uri', 'value': 'https://viaf.org/viaf/57357315'}}\n",
            "{'gnd_id': {'type': 'literal', 'value': '118846493'}, 'wikidata_uri': {'type': 'uri', 'value': 'http://www.wikidata.org/entity/Q5454'}, 'viaf_id': {'type': 'literal', 'value': '56783361'}, 'viaf_uri': {'type': 'uri', 'value': 'https://viaf.org/viaf/56783361'}}\n",
            "{'gnd_id': {'type': 'literal', 'value': '118846493'}, 'wikidata_uri': {'type': 'uri', 'value': 'http://www.wikidata.org/entity/Q5454'}, 'viaf_id': {'type': 'literal', 'value': '8765158792861239040002'}, 'viaf_uri': {'type': 'uri', 'value': 'https://viaf.org/viaf/8765158792861239040002'}}\n",
            "{'gnd_id': {'type': 'literal', 'value': '131855549'}, 'wikidata_uri': {'type': 'uri', 'value': 'http://www.wikidata.org/entity/Q15803'}, 'viaf_id': {'type': 'literal', 'value': '9935574'}, 'viaf_uri': {'type': 'uri', 'value': 'https://viaf.org/viaf/9935574'}}\n",
            "{'gnd_id': {'type': 'literal', 'value': '130122955'}, 'wikidata_uri': {'type': 'uri', 'value': 'http://www.wikidata.org/entity/Q15944'}, 'viaf_id': {'type': 'literal', 'value': '62646722'}, 'viaf_uri': {'type': 'uri', 'value': 'https://viaf.org/viaf/62646722'}}\n",
            "['http://www.intavia.eu/apis/personproxy/34102', 'http://www.intavia.eu/apis/personproxy/34102']\n",
            " <same as> https://viaf.org/viaf/5708406\n",
            "['http://www.intavia.eu/apis/personproxy/50449', 'http://www.intavia.eu/apis/personproxy/50449']\n",
            " <same as> https://viaf.org/viaf/35201531\n",
            "['http://www.intavia.eu/apis/personproxy/74033', 'http://www.intavia.eu/apis/personproxy/74033']\n",
            " <same as> https://viaf.org/viaf/13090207\n",
            "['http://www.intavia.eu/apis/personproxy/60521', 'http://www.intavia.eu/apis/personproxy/60521']\n",
            " <same as> https://viaf.org/viaf/84859525\n",
            "['http://www.intavia.eu/apis/personproxy/89549', 'http://www.intavia.eu/apis/personproxy/89549']\n",
            " <same as> https://viaf.org/viaf/755210\n",
            "['http://www.intavia.eu/apis/personproxy/86228', 'http://www.intavia.eu/apis/personproxy/86228']\n",
            " <same as> https://viaf.org/viaf/57357315\n",
            "['http://www.intavia.eu/apis/personproxy/90328', 'http://www.intavia.eu/apis/personproxy/90328']\n",
            " <same as> https://viaf.org/viaf/56783361\n",
            "['http://www.intavia.eu/apis/personproxy/90328', 'http://www.intavia.eu/apis/personproxy/90328']\n",
            " <same as> https://viaf.org/viaf/8765158792861239040002\n",
            "['http://www.intavia.eu/apis/personproxy/74483', 'http://www.intavia.eu/apis/personproxy/74483']\n",
            " <same as> https://viaf.org/viaf/9935574\n",
            "['http://www.intavia.eu/apis/personproxy/88034', 'http://www.intavia.eu/apis/personproxy/88034']\n",
            " <same as> https://viaf.org/viaf/62646722\n",
            "7841 results\n",
            "{'sbi_id': {'type': 'literal', 'value': '1000090'}, 'wikidata_uri': {'type': 'uri', 'value': 'http://www.wikidata.org/entity/Q713658'}}\n",
            "{'sbi_id': {'type': 'literal', 'value': '198007'}, 'wikidata_uri': {'type': 'uri', 'value': 'http://www.wikidata.org/entity/Q60757583'}}\n",
            "{'sbi_id': {'type': 'literal', 'value': '1001150'}, 'wikidata_uri': {'type': 'uri', 'value': 'http://www.wikidata.org/entity/Q18642956'}}\n",
            "{'sbi_id': {'type': 'literal', 'value': '1006590'}, 'wikidata_uri': {'type': 'uri', 'value': 'http://www.wikidata.org/entity/Q12791601'}}\n",
            "{'sbi_id': {'type': 'literal', 'value': '1002410'}, 'wikidata_uri': {'type': 'uri', 'value': 'http://www.wikidata.org/entity/Q12792793'}}\n",
            "{'sbi_id': {'type': 'literal', 'value': '1021260'}, 'wikidata_uri': {'type': 'uri', 'value': 'http://www.wikidata.org/entity/Q63121796'}}\n",
            "{'sbi_id': {'type': 'literal', 'value': '143299'}, 'wikidata_uri': {'type': 'uri', 'value': 'http://www.wikidata.org/entity/Q61120527'}}\n",
            "{'sbi_id': {'type': 'literal', 'value': '161422'}, 'wikidata_uri': {'type': 'uri', 'value': 'http://www.wikidata.org/entity/Q90189'}}\n",
            "{'sbi_id': {'type': 'literal', 'value': '198322'}, 'wikidata_uri': {'type': 'uri', 'value': 'http://www.wikidata.org/entity/Q21548131'}}\n",
            "{'sbi_id': {'type': 'literal', 'value': '218492'}, 'wikidata_uri': {'type': 'uri', 'value': 'http://www.wikidata.org/entity/Q60716236'}}\n",
            "['http://www.intavia.eu/sbi/personproxy/sbi1000090', 'http://www.intavia.eu/sbi/personproxy/sbi1000090']\n",
            " <same as> http://www.wikidata.org/entity/Q713658\n",
            "['http://www.intavia.eu/sbi/personproxy/sbi198007', 'http://www.intavia.eu/sbi/personproxy/sbi198007']\n",
            " <same as> http://www.wikidata.org/entity/Q60757583\n",
            "['http://www.intavia.eu/sbi/personproxy/sbi1001150', 'http://www.intavia.eu/sbi/personproxy/sbi1001150']\n",
            " <same as> http://www.wikidata.org/entity/Q18642956\n",
            "['http://www.intavia.eu/sbi/personproxy/sbi1006590', 'http://www.intavia.eu/sbi/personproxy/sbi1006590']\n",
            " <same as> http://www.wikidata.org/entity/Q12791601\n",
            "['http://www.intavia.eu/sbi/personproxy/sbi1002410', 'http://www.intavia.eu/sbi/personproxy/sbi1002410']\n",
            " <same as> http://www.wikidata.org/entity/Q12792793\n",
            "['http://www.intavia.eu/sbi/personproxy/sbi1021260', 'http://www.intavia.eu/sbi/personproxy/sbi1021260']\n",
            " <same as> http://www.wikidata.org/entity/Q63121796\n",
            "['http://www.intavia.eu/sbi/personproxy/sbi143299', 'http://www.intavia.eu/sbi/personproxy/sbi143299']\n",
            " <same as> http://www.wikidata.org/entity/Q61120527\n",
            "['http://www.intavia.eu/sbi/personproxy/sbi161422', 'http://www.intavia.eu/sbi/personproxy/sbi161422']\n",
            " <same as> http://www.wikidata.org/entity/Q90189\n",
            "['http://www.intavia.eu/sbi/personproxy/sbi198322', 'http://www.intavia.eu/sbi/personproxy/sbi198322']\n",
            " <same as> http://www.wikidata.org/entity/Q21548131\n",
            "['http://www.intavia.eu/sbi/personproxy/sbi218492', 'http://www.intavia.eu/sbi/personproxy/sbi218492']\n",
            " <same as> http://www.wikidata.org/entity/Q60716236\n",
            "1731 results\n",
            "{'sbi_id': {'type': 'literal', 'value': '254562'}, 'wikidata_uri': {'type': 'uri', 'value': 'http://www.wikidata.org/entity/Q15803'}, 'gnd_id': {'type': 'literal', 'value': '131855549'}, 'gnd_uri': {'type': 'uri', 'value': 'https://d-nb.info/gnd/131855549'}}\n",
            "{'sbi_id': {'type': 'literal', 'value': '193289'}, 'wikidata_uri': {'type': 'uri', 'value': 'http://www.wikidata.org/entity/Q72975'}, 'gnd_id': {'type': 'literal', 'value': '118693719'}, 'gnd_uri': {'type': 'uri', 'value': 'https://d-nb.info/gnd/118693719'}}\n",
            "{'sbi_id': {'type': 'literal', 'value': '161422'}, 'wikidata_uri': {'type': 'uri', 'value': 'http://www.wikidata.org/entity/Q90189'}, 'gnd_id': {'type': 'literal', 'value': '116680989'}, 'gnd_uri': {'type': 'uri', 'value': 'https://d-nb.info/gnd/116680989'}}\n",
            "{'sbi_id': {'type': 'literal', 'value': '227919'}, 'wikidata_uri': {'type': 'uri', 'value': 'http://www.wikidata.org/entity/Q94372'}, 'gnd_id': {'type': 'literal', 'value': '100977693'}, 'gnd_uri': {'type': 'uri', 'value': 'https://d-nb.info/gnd/100977693'}}\n",
            "{'sbi_id': {'type': 'literal', 'value': '136088'}, 'wikidata_uri': {'type': 'uri', 'value': 'http://www.wikidata.org/entity/Q335092'}, 'gnd_id': {'type': 'literal', 'value': '118507222'}, 'gnd_uri': {'type': 'uri', 'value': 'https://d-nb.info/gnd/118507222'}}\n",
            "{'sbi_id': {'type': 'literal', 'value': '132240'}, 'wikidata_uri': {'type': 'uri', 'value': 'http://www.wikidata.org/entity/Q588124'}, 'gnd_id': {'type': 'literal', 'value': '118849409'}, 'gnd_uri': {'type': 'uri', 'value': 'https://d-nb.info/gnd/118849409'}}\n",
            "{'sbi_id': {'type': 'literal', 'value': '305548'}, 'wikidata_uri': {'type': 'uri', 'value': 'http://www.wikidata.org/entity/Q694197'}, 'gnd_id': {'type': 'literal', 'value': '100089003'}, 'gnd_uri': {'type': 'uri', 'value': 'https://d-nb.info/gnd/100089003'}}\n",
            "{'sbi_id': {'type': 'literal', 'value': '228885'}, 'wikidata_uri': {'type': 'uri', 'value': 'http://www.wikidata.org/entity/Q700720'}, 'gnd_id': {'type': 'literal', 'value': '118710656'}, 'gnd_uri': {'type': 'uri', 'value': 'https://d-nb.info/gnd/118710656'}}\n",
            "{'sbi_id': {'type': 'literal', 'value': '1000090'}, 'wikidata_uri': {'type': 'uri', 'value': 'http://www.wikidata.org/entity/Q713658'}, 'gnd_id': {'type': 'literal', 'value': '118643762'}, 'gnd_uri': {'type': 'uri', 'value': 'https://d-nb.info/gnd/118643762'}}\n",
            "{'sbi_id': {'type': 'literal', 'value': '313551'}, 'wikidata_uri': {'type': 'uri', 'value': 'http://www.wikidata.org/entity/Q1449669'}, 'gnd_id': {'type': 'literal', 'value': '1017735131'}, 'gnd_uri': {'type': 'uri', 'value': 'https://d-nb.info/gnd/1017735131'}}\n",
            "['http://www.intavia.eu/sbi/personproxy/sbi254562', 'http://www.intavia.eu/sbi/personproxy/sbi254562']\n",
            " <same as> https://d-nb.info/gnd/131855549\n",
            "['http://www.intavia.eu/sbi/personproxy/sbi193289', 'http://www.intavia.eu/sbi/personproxy/sbi193289']\n",
            " <same as> https://d-nb.info/gnd/118693719\n",
            "['http://www.intavia.eu/sbi/personproxy/sbi161422', 'http://www.intavia.eu/sbi/personproxy/sbi161422']\n",
            " <same as> https://d-nb.info/gnd/116680989\n",
            "['http://www.intavia.eu/sbi/personproxy/sbi227919', 'http://www.intavia.eu/sbi/personproxy/sbi227919']\n",
            " <same as> https://d-nb.info/gnd/100977693\n",
            "['http://www.intavia.eu/sbi/personproxy/sbi136088', 'http://www.intavia.eu/sbi/personproxy/sbi136088']\n",
            " <same as> https://d-nb.info/gnd/118507222\n",
            "['http://www.intavia.eu/sbi/personproxy/sbi132240', 'http://www.intavia.eu/sbi/personproxy/sbi132240']\n",
            " <same as> https://d-nb.info/gnd/118849409\n",
            "['http://www.intavia.eu/sbi/personproxy/sbi305548', 'http://www.intavia.eu/sbi/personproxy/sbi305548']\n",
            " <same as> https://d-nb.info/gnd/100089003\n",
            "['http://www.intavia.eu/sbi/personproxy/sbi228885', 'http://www.intavia.eu/sbi/personproxy/sbi228885']\n",
            " <same as> https://d-nb.info/gnd/118710656\n",
            "['http://www.intavia.eu/sbi/personproxy/sbi1000090', 'http://www.intavia.eu/sbi/personproxy/sbi1000090']\n",
            " <same as> https://d-nb.info/gnd/118643762\n",
            "['http://www.intavia.eu/sbi/personproxy/sbi313551', 'http://www.intavia.eu/sbi/personproxy/sbi313551']\n",
            " <same as> https://d-nb.info/gnd/1017735131\n",
            "4024 results\n",
            "{'sbi_id': {'type': 'literal', 'value': '575025'}, 'wikidata_uri': {'type': 'uri', 'value': 'http://www.wikidata.org/entity/Q5345'}, 'viaf_id': {'type': 'literal', 'value': '250636237'}, 'viaf_uri': {'type': 'uri', 'value': 'https://viaf.org/viaf/250636237'}}\n",
            "{'sbi_id': {'type': 'literal', 'value': '254562'}, 'wikidata_uri': {'type': 'uri', 'value': 'http://www.wikidata.org/entity/Q15803'}, 'viaf_id': {'type': 'literal', 'value': '9935574'}, 'viaf_uri': {'type': 'uri', 'value': 'https://viaf.org/viaf/9935574'}}\n",
            "{'sbi_id': {'type': 'literal', 'value': '193289'}, 'wikidata_uri': {'type': 'uri', 'value': 'http://www.wikidata.org/entity/Q72975'}, 'viaf_id': {'type': 'literal', 'value': '51787739'}, 'viaf_uri': {'type': 'uri', 'value': 'https://viaf.org/viaf/51787739'}}\n",
            "{'sbi_id': {'type': 'literal', 'value': '161422'}, 'wikidata_uri': {'type': 'uri', 'value': 'http://www.wikidata.org/entity/Q90189'}, 'viaf_id': {'type': 'literal', 'value': '264262998'}, 'viaf_uri': {'type': 'uri', 'value': 'https://viaf.org/viaf/264262998'}}\n",
            "{'sbi_id': {'type': 'literal', 'value': '227919'}, 'wikidata_uri': {'type': 'uri', 'value': 'http://www.wikidata.org/entity/Q94372'}, 'viaf_id': {'type': 'literal', 'value': '10203934'}, 'viaf_uri': {'type': 'uri', 'value': 'https://viaf.org/viaf/10203934'}}\n",
            "{'sbi_id': {'type': 'literal', 'value': '136088'}, 'wikidata_uri': {'type': 'uri', 'value': 'http://www.wikidata.org/entity/Q335092'}, 'viaf_id': {'type': 'literal', 'value': '34465549'}, 'viaf_uri': {'type': 'uri', 'value': 'https://viaf.org/viaf/34465549'}}\n",
            "{'sbi_id': {'type': 'literal', 'value': '132240'}, 'wikidata_uri': {'type': 'uri', 'value': 'http://www.wikidata.org/entity/Q588124'}, 'viaf_id': {'type': 'literal', 'value': '52486746'}, 'viaf_uri': {'type': 'uri', 'value': 'https://viaf.org/viaf/52486746'}}\n",
            "{'sbi_id': {'type': 'literal', 'value': '305548'}, 'wikidata_uri': {'type': 'uri', 'value': 'http://www.wikidata.org/entity/Q694197'}, 'viaf_id': {'type': 'literal', 'value': '24940596'}, 'viaf_uri': {'type': 'uri', 'value': 'https://viaf.org/viaf/24940596'}}\n",
            "{'sbi_id': {'type': 'literal', 'value': '305548'}, 'wikidata_uri': {'type': 'uri', 'value': 'http://www.wikidata.org/entity/Q694197'}, 'viaf_id': {'type': 'literal', 'value': '265719076'}, 'viaf_uri': {'type': 'uri', 'value': 'https://viaf.org/viaf/265719076'}}\n",
            "{'sbi_id': {'type': 'literal', 'value': '228885'}, 'wikidata_uri': {'type': 'uri', 'value': 'http://www.wikidata.org/entity/Q700720'}, 'viaf_id': {'type': 'literal', 'value': '54418011'}, 'viaf_uri': {'type': 'uri', 'value': 'https://viaf.org/viaf/54418011'}}\n",
            "['http://www.intavia.eu/sbi/personproxy/sbi575025', 'http://www.intavia.eu/sbi/personproxy/sbi575025']\n",
            " <same as> https://viaf.org/viaf/250636237\n",
            "['http://www.intavia.eu/sbi/personproxy/sbi254562', 'http://www.intavia.eu/sbi/personproxy/sbi254562']\n",
            " <same as> https://viaf.org/viaf/9935574\n",
            "['http://www.intavia.eu/sbi/personproxy/sbi193289', 'http://www.intavia.eu/sbi/personproxy/sbi193289']\n",
            " <same as> https://viaf.org/viaf/51787739\n",
            "['http://www.intavia.eu/sbi/personproxy/sbi161422', 'http://www.intavia.eu/sbi/personproxy/sbi161422']\n",
            " <same as> https://viaf.org/viaf/264262998\n",
            "['http://www.intavia.eu/sbi/personproxy/sbi227919', 'http://www.intavia.eu/sbi/personproxy/sbi227919']\n",
            " <same as> https://viaf.org/viaf/10203934\n",
            "['http://www.intavia.eu/sbi/personproxy/sbi136088', 'http://www.intavia.eu/sbi/personproxy/sbi136088']\n",
            " <same as> https://viaf.org/viaf/34465549\n",
            "['http://www.intavia.eu/sbi/personproxy/sbi132240', 'http://www.intavia.eu/sbi/personproxy/sbi132240']\n",
            " <same as> https://viaf.org/viaf/52486746\n",
            "['http://www.intavia.eu/sbi/personproxy/sbi305548', 'http://www.intavia.eu/sbi/personproxy/sbi305548']\n",
            " <same as> https://viaf.org/viaf/24940596\n",
            "['http://www.intavia.eu/sbi/personproxy/sbi305548', 'http://www.intavia.eu/sbi/personproxy/sbi305548']\n",
            " <same as> https://viaf.org/viaf/265719076\n",
            "['http://www.intavia.eu/sbi/personproxy/sbi228885', 'http://www.intavia.eu/sbi/personproxy/sbi228885']\n",
            " <same as> https://viaf.org/viaf/54418011\n",
            "146154\n"
          ]
        },
        {
          "output_type": "execute_result",
          "data": {
            "text/plain": [
              "<Graph identifier=N9804fb216acc4bef8ad0ff55d29dee7f (<class 'rdflib.graph.Graph'>)>"
            ]
          },
          "metadata": {},
          "execution_count": 25
        }
      ]
    },
    {
      "cell_type": "code",
      "source": [
        "from google.colab import files\n",
        "files.download(\"intavia-person-id-enrichment.ttl\")"
      ],
      "metadata": {
        "colab": {
          "base_uri": "https://localhost:8080/",
          "height": 17
        },
        "id": "Y8YkU9cMijis",
        "outputId": "c6c783f9-d9aa-40ff-c0b9-472107e1532b"
      },
      "execution_count": 26,
      "outputs": [
        {
          "output_type": "display_data",
          "data": {
            "text/plain": [
              "<IPython.core.display.Javascript object>"
            ],
            "application/javascript": [
              "\n",
              "    async function download(id, filename, size) {\n",
              "      if (!google.colab.kernel.accessAllowed) {\n",
              "        return;\n",
              "      }\n",
              "      const div = document.createElement('div');\n",
              "      const label = document.createElement('label');\n",
              "      label.textContent = `Downloading \"${filename}\": `;\n",
              "      div.appendChild(label);\n",
              "      const progress = document.createElement('progress');\n",
              "      progress.max = size;\n",
              "      div.appendChild(progress);\n",
              "      document.body.appendChild(div);\n",
              "\n",
              "      const buffers = [];\n",
              "      let downloaded = 0;\n",
              "\n",
              "      const channel = await google.colab.kernel.comms.open(id);\n",
              "      // Send a message to notify the kernel that we're ready.\n",
              "      channel.send({})\n",
              "\n",
              "      for await (const message of channel.messages) {\n",
              "        // Send a message to notify the kernel that we're ready.\n",
              "        channel.send({})\n",
              "        if (message.buffers) {\n",
              "          for (const buffer of message.buffers) {\n",
              "            buffers.push(buffer);\n",
              "            downloaded += buffer.byteLength;\n",
              "            progress.value = downloaded;\n",
              "          }\n",
              "        }\n",
              "      }\n",
              "      const blob = new Blob(buffers, {type: 'application/binary'});\n",
              "      const a = document.createElement('a');\n",
              "      a.href = window.URL.createObjectURL(blob);\n",
              "      a.download = filename;\n",
              "      div.appendChild(a);\n",
              "      a.click();\n",
              "      div.remove();\n",
              "    }\n",
              "  "
            ]
          },
          "metadata": {}
        },
        {
          "output_type": "display_data",
          "data": {
            "text/plain": [
              "<IPython.core.display.Javascript object>"
            ],
            "application/javascript": [
              "download(\"download_05638a76-9051-4b07-a4d6-17dbf1e427d4\", \"intavia-person-id-enrichment.ttl\", 11476594)"
            ]
          },
          "metadata": {}
        }
      ]
    }
  ]
}