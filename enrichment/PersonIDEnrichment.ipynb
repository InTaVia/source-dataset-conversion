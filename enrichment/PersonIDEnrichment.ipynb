{
  "nbformat": 4,
  "nbformat_minor": 0,
  "metadata": {
    "colab": {
      "name": "PersonIDEnrichment.ipynb",
      "provenance": [],
      "collapsed_sections": [],
      "authorship_tag": "ABX9TyPULX6Eb8tRTSZE+2nmJjJU"
    },
    "kernelspec": {
      "name": "python3",
      "display_name": "Python 3"
    },
    "language_info": {
      "name": "python"
    }
  },
  "cells": [
    {
      "cell_type": "markdown",
      "source": [
        "Install the dependencies:"
      ],
      "metadata": {
        "id": "cI_P-JHlHGY2"
      }
    },
    {
      "cell_type": "code",
      "execution_count": 92,
      "metadata": {
        "colab": {
          "base_uri": "https://localhost:8080/"
        },
        "id": "aiyemyAdGtf3",
        "outputId": "f089a42e-c2ce-4753-d75c-d5030a65afcd"
      },
      "outputs": [
        {
          "output_type": "stream",
          "name": "stdout",
          "text": [
            "Looking in indexes: https://pypi.org/simple, https://us-python.pkg.dev/colab-wheels/public/simple/\n",
            "Requirement already satisfied: SPARQLWrapper in /usr/local/lib/python3.7/dist-packages (2.0.0)\n",
            "Requirement already satisfied: rdflib in /usr/local/lib/python3.7/dist-packages (6.2.0)\n",
            "Requirement already satisfied: isodate in /usr/local/lib/python3.7/dist-packages (from rdflib) (0.6.1)\n",
            "Requirement already satisfied: importlib-metadata in /usr/local/lib/python3.7/dist-packages (from rdflib) (4.12.0)\n",
            "Requirement already satisfied: pyparsing in /usr/local/lib/python3.7/dist-packages (from rdflib) (3.0.9)\n",
            "Requirement already satisfied: setuptools in /usr/local/lib/python3.7/dist-packages (from rdflib) (57.4.0)\n",
            "Requirement already satisfied: zipp>=0.5 in /usr/local/lib/python3.7/dist-packages (from importlib-metadata->rdflib) (3.8.1)\n",
            "Requirement already satisfied: typing-extensions>=3.6.4 in /usr/local/lib/python3.7/dist-packages (from importlib-metadata->rdflib) (4.1.1)\n",
            "Requirement already satisfied: six in /usr/local/lib/python3.7/dist-packages (from isodate->rdflib) (1.15.0)\n"
          ]
        }
      ],
      "source": [
        "!pip install SPARQLWrapper rdflib\n",
        "from SPARQLWrapper import SPARQLWrapper, JSON\n",
        "from getpass import getpass\n",
        "from rdflib import Graph, URIRef, OWL"
      ]
    },
    {
      "cell_type": "markdown",
      "source": [
        "Input Intavia SPARQL endpoint credentials:"
      ],
      "metadata": {
        "id": "_J1DUOOcMnNf"
      }
    },
    {
      "cell_type": "code",
      "source": [
        "user = input(\"Username: \")\n",
        "password = getpass(\"Password: \")"
      ],
      "metadata": {
        "colab": {
          "base_uri": "https://localhost:8080/"
        },
        "id": "3x0EfDu9MtNl",
        "outputId": "32544426-c555-4f75-fcc6-8e227faa9e46"
      },
      "execution_count": 20,
      "outputs": [
        {
          "name": "stdout",
          "output_type": "stream",
          "text": [
            "Username: intavia\n",
            "Password: ··········\n"
          ]
        }
      ]
    },
    {
      "cell_type": "markdown",
      "source": [
        "Fetch person URIs and already existing external ID's:"
      ],
      "metadata": {
        "id": "oCT4Ut9FHKkz"
      }
    },
    {
      "cell_type": "code",
      "source": [
        "PREFIXES = \"\"\"\n",
        "PREFIX bds: <http://www.bigdata.com/rdf/search#>\n",
        "PREFIX crm: <http://www.cidoc-crm.org/cidoc-crm/>\n",
        "PREFIX bioc: <http://ldf.fi/schema/bioc/>\n",
        "PREFIX rdfs: <http://www.w3.org/2000/01/rdf-schema#>\n",
        "PREFIX idm: <https://www.intavia.eu/idm/>\n",
        "PREFIX idmcore: <http://www.intavia.eu/idm-core/>\n",
        "PREFIX idmcores: <https://www.intavia.eu/idm-core/>\n",
        "PREFIX owl: <http://www.w3.org/2002/07/owl#>\n",
        "PREFIX wdt: <http://www.wikidata.org/prop/direct/>\n",
        "\"\"\"\n",
        "\n",
        "sparql = SPARQLWrapper(\"https://triplestore.acdh-dev.oeaw.ac.at/intavia/sparql\")\n",
        "\n",
        "sparql.setQuery(PREFIXES + \"\"\"\n",
        "SELECT * {\n",
        "  VALUES ?g { <http://apis.acdh.oeaw.ac.at/data> <http://ldf.fi/nbf/data> }\n",
        "  GRAPH ?g {    \n",
        "    VALUES ?class { crm:E21_Person idmcore:Person_Proxy }\n",
        "    ?s a ?class ;\n",
        "       owl:sameAs ?ext_uri .\n",
        "    # Filter out sameAs links to national data sources\n",
        "    FILTER (!STRSTARTS(STR(?ext_uri), \"http://ldf.fi/nbf/\"))\n",
        "    FILTER (!STRSTARTS(STR(?ext_uri), \"https://apis.acdh.oeaw.ac.at/\"))\n",
        "    FILTER (!STRSTARTS(STR(?ext_uri), \"https://www.slovenska-biografija.si/\"))\n",
        "    BIND (REPLACE(STR(?ext_uri), \"[^/]+$\", \"\") AS ?ext_ns)\n",
        "    BIND (REPLACE(STR(?ext_uri), \"^.+/\", \"\") AS ?ext_id)\n",
        "  }\n",
        "}\n",
        "#LIMIT 1\n",
        "\"\"\")\n",
        "\n",
        "sparql.setReturnFormat(JSON)\n",
        "sparql.setMethod('POST')\n",
        "sparql.setCredentials(user, password)\n",
        "results = sparql.query().convert()\n",
        "res = results[\"results\"][\"bindings\"]\n",
        "print(f\"{len(res)} results\")\n",
        "print(f\"Datafields {results['head']['vars']}\")\n",
        "for ob in res[:10]:\n",
        "  print(ob)"
      ],
      "metadata": {
        "colab": {
          "base_uri": "https://localhost:8080/"
        },
        "id": "hn25clUmHXWJ",
        "outputId": "bb505d6a-c594-4a21-ac34-5cdd1f41ac14"
      },
      "execution_count": 69,
      "outputs": [
        {
          "output_type": "stream",
          "name": "stdout",
          "text": [
            "43522 results\n",
            "Datafields ['s', 'class', 'g', 'ext_uri', 'ext_ns', 'ext_id']\n",
            "{'g': {'type': 'uri', 'value': 'http://ldf.fi/nbf/data'}, 'class': {'type': 'uri', 'value': 'http://www.cidoc-crm.org/cidoc-crm/E21_Person'}, 's': {'type': 'uri', 'value': 'http://www.intavia.eu/personproxy/bs/1877'}, 'ext_uri': {'type': 'uri', 'value': 'http://www.wikidata.org/entity/Q4129860'}, 'ext_ns': {'type': 'literal', 'value': 'http://www.wikidata.org/entity/'}, 'ext_id': {'type': 'literal', 'value': 'Q4129860'}}\n",
            "{'g': {'type': 'uri', 'value': 'http://ldf.fi/nbf/data'}, 'class': {'type': 'uri', 'value': 'http://www.cidoc-crm.org/cidoc-crm/E21_Person'}, 's': {'type': 'uri', 'value': 'http://www.intavia.eu/personproxy/bs/1880'}, 'ext_uri': {'type': 'uri', 'value': 'http://www.wikidata.org/entity/Q5561382'}, 'ext_ns': {'type': 'literal', 'value': 'http://www.wikidata.org/entity/'}, 'ext_id': {'type': 'literal', 'value': 'Q5561382'}}\n",
            "{'g': {'type': 'uri', 'value': 'http://ldf.fi/nbf/data'}, 'class': {'type': 'uri', 'value': 'http://www.cidoc-crm.org/cidoc-crm/E21_Person'}, 's': {'type': 'uri', 'value': 'http://www.intavia.eu/personproxy/bs/1884'}, 'ext_uri': {'type': 'uri', 'value': 'http://www.wikidata.org/entity/Q1782570'}, 'ext_ns': {'type': 'literal', 'value': 'http://www.wikidata.org/entity/'}, 'ext_id': {'type': 'literal', 'value': 'Q1782570'}}\n",
            "{'g': {'type': 'uri', 'value': 'http://ldf.fi/nbf/data'}, 'class': {'type': 'uri', 'value': 'http://www.cidoc-crm.org/cidoc-crm/E21_Person'}, 's': {'type': 'uri', 'value': 'http://www.intavia.eu/personproxy/bs/1885'}, 'ext_uri': {'type': 'uri', 'value': 'http://www.wikidata.org/entity/Q17380518'}, 'ext_ns': {'type': 'literal', 'value': 'http://www.wikidata.org/entity/'}, 'ext_id': {'type': 'literal', 'value': 'Q17380518'}}\n",
            "{'g': {'type': 'uri', 'value': 'http://ldf.fi/nbf/data'}, 'class': {'type': 'uri', 'value': 'http://www.cidoc-crm.org/cidoc-crm/E21_Person'}, 's': {'type': 'uri', 'value': 'http://www.intavia.eu/personproxy/bs/1886'}, 'ext_uri': {'type': 'uri', 'value': 'http://www.wikidata.org/entity/Q6060282'}, 'ext_ns': {'type': 'literal', 'value': 'http://www.wikidata.org/entity/'}, 'ext_id': {'type': 'literal', 'value': 'Q6060282'}}\n",
            "{'g': {'type': 'uri', 'value': 'http://ldf.fi/nbf/data'}, 'class': {'type': 'uri', 'value': 'http://www.cidoc-crm.org/cidoc-crm/E21_Person'}, 's': {'type': 'uri', 'value': 'http://www.intavia.eu/personproxy/bs/1887'}, 'ext_uri': {'type': 'uri', 'value': 'http://www.wikidata.org/entity/Q25454198'}, 'ext_ns': {'type': 'literal', 'value': 'http://www.wikidata.org/entity/'}, 'ext_id': {'type': 'literal', 'value': 'Q25454198'}}\n",
            "{'g': {'type': 'uri', 'value': 'http://ldf.fi/nbf/data'}, 'class': {'type': 'uri', 'value': 'http://www.cidoc-crm.org/cidoc-crm/E21_Person'}, 's': {'type': 'uri', 'value': 'http://www.intavia.eu/personproxy/bs/1888'}, 'ext_uri': {'type': 'uri', 'value': 'http://www.wikidata.org/entity/Q2590486'}, 'ext_ns': {'type': 'literal', 'value': 'http://www.wikidata.org/entity/'}, 'ext_id': {'type': 'literal', 'value': 'Q2590486'}}\n",
            "{'g': {'type': 'uri', 'value': 'http://ldf.fi/nbf/data'}, 'class': {'type': 'uri', 'value': 'http://www.cidoc-crm.org/cidoc-crm/E21_Person'}, 's': {'type': 'uri', 'value': 'http://www.intavia.eu/personproxy/bs/1892'}, 'ext_uri': {'type': 'uri', 'value': 'http://www.wikidata.org/entity/Q21558171'}, 'ext_ns': {'type': 'literal', 'value': 'http://www.wikidata.org/entity/'}, 'ext_id': {'type': 'literal', 'value': 'Q21558171'}}\n",
            "{'g': {'type': 'uri', 'value': 'http://ldf.fi/nbf/data'}, 'class': {'type': 'uri', 'value': 'http://www.cidoc-crm.org/cidoc-crm/E21_Person'}, 's': {'type': 'uri', 'value': 'http://www.intavia.eu/personproxy/bs/1893'}, 'ext_uri': {'type': 'uri', 'value': 'http://www.wikidata.org/entity/Q931826'}, 'ext_ns': {'type': 'literal', 'value': 'http://www.wikidata.org/entity/'}, 'ext_id': {'type': 'literal', 'value': 'Q931826'}}\n",
            "{'g': {'type': 'uri', 'value': 'http://ldf.fi/nbf/data'}, 'class': {'type': 'uri', 'value': 'http://www.cidoc-crm.org/cidoc-crm/E21_Person'}, 's': {'type': 'uri', 'value': 'http://www.intavia.eu/personproxy/bs/194'}, 'ext_uri': {'type': 'uri', 'value': 'http://www.wikidata.org/entity/Q52940'}, 'ext_ns': {'type': 'literal', 'value': 'http://www.wikidata.org/entity/'}, 'ext_id': {'type': 'literal', 'value': 'Q52940'}}\n"
          ]
        }
      ]
    },
    {
      "cell_type": "code",
      "source": [
        "wikidata_ids = dict()\n",
        "gnd_ids = dict()\n",
        "\n",
        "for ob in res:\n",
        "  if (ob['ext_ns']['value'] == \"http://www.wikidata.org/entity/\"):\n",
        "    wikidata_ids[ob['ext_uri']['value']] = ob['s']['value']\n",
        "  elif (ob['ext_ns']['value'] == \"https://d-nb.info/gnd/\"):\n",
        "    gnd_ids[ob['ext_id']['value']] = ob['s']['value']"
      ],
      "metadata": {
        "id": "t2-o5JmDXY21"
      },
      "execution_count": 102,
      "outputs": []
    },
    {
      "cell_type": "markdown",
      "source": [
        "Get Wikidata -> GND ID's:"
      ],
      "metadata": {
        "id": "gb6zUSVQUh0V"
      }
    },
    {
      "cell_type": "code",
      "source": [
        "sparql = SPARQLWrapper(\"https://query.wikidata.org/sparql\")\n",
        "sparql.setQuery(PREFIXES + \"\"\"\n",
        "SELECT * {\n",
        "  VALUES ?wikidata_uri {<\"\"\" + '> <'.join(wikidata_ids.keys()) + \"\"\">}\n",
        "  ?wikidata_uri wdt:P227 ?gnd_id .\n",
        "  BIND (URI(CONCAT(\"https://d-nb.info/gnd/\", ?gnd_id)) AS ?gnd_uri)   \n",
        "}\n",
        "#LIMIT 1\n",
        "\"\"\")\n",
        "\n",
        "sparql.setReturnFormat(JSON)\n",
        "sparql.setMethod('POST')\n",
        "results = sparql.query().convert()\n",
        "res_wikidata_to_gnd = results[\"results\"][\"bindings\"]\n",
        "print(f\"{len(res_wikidata_to_gnd)} results\")\n"
      ],
      "metadata": {
        "colab": {
          "base_uri": "https://localhost:8080/"
        },
        "id": "yGZbeVQePztQ",
        "outputId": "b579a537-da0f-409f-9582-3564d63ec868"
      },
      "execution_count": 82,
      "outputs": [
        {
          "output_type": "stream",
          "name": "stdout",
          "text": [
            "1590 results\n"
          ]
        }
      ]
    },
    {
      "cell_type": "markdown",
      "source": [
        "Get Wikidata -> VIAF ID's:"
      ],
      "metadata": {
        "id": "D47KG4M-Xlkz"
      }
    },
    {
      "cell_type": "code",
      "source": [
        "sparql = SPARQLWrapper(\"https://query.wikidata.org/sparql\")\n",
        "sparql.setQuery(PREFIXES + \"\"\"\n",
        "SELECT * {\n",
        "  VALUES ?wikidata_uri {<\"\"\" + '> <'.join(wikidata_ids.keys()) + \"\"\">}\n",
        "  ?wikidata_uri wdt:P214 ?viaf_id . \n",
        "  BIND (URI(CONCAT(\"https://viaf.org/viaf/\", ?viaf_id)) AS ?viaf_uri)\n",
        "}\n",
        "#LIMIT 1\n",
        "\"\"\")\n",
        "\n",
        "sparql.setReturnFormat(JSON)\n",
        "sparql.setMethod('POST')\n",
        "results = sparql.query().convert()\n",
        "res_wikidata_to_viaf = results[\"results\"][\"bindings\"]\n",
        "print(f\"{len(res_wikidata_to_viaf)} results\")"
      ],
      "metadata": {
        "colab": {
          "base_uri": "https://localhost:8080/"
        },
        "id": "3UAYUM0BXlyY",
        "outputId": "5e8a79f9-05e4-411f-fb7d-1b512d1efeff"
      },
      "execution_count": 84,
      "outputs": [
        {
          "output_type": "stream",
          "name": "stdout",
          "text": [
            "2916 results\n"
          ]
        }
      ]
    },
    {
      "cell_type": "markdown",
      "source": [
        "Get GND -> Wikidata ID's:"
      ],
      "metadata": {
        "id": "tOfsuw_8YRL7"
      }
    },
    {
      "cell_type": "code",
      "source": [
        "sparql = SPARQLWrapper(\"https://query.wikidata.org/sparql\")\n",
        "sparql.setQuery(PREFIXES + \"\"\"\n",
        "SELECT * {\n",
        "  VALUES ?gnd_id {'\"\"\" + \"' '\".join(gnd_ids.keys()) + \"\"\"'}\n",
        "  ?wikidata_uri wdt:P227 ?gnd_id .\n",
        "  BIND (URI(CONCAT(\"https://d-nb.info/gnd/\", ?gnd_id)) AS ?gnd_uri)   \n",
        "}\n",
        "#LIMIT 1\n",
        "\"\"\")\n",
        "\n",
        "sparql.setReturnFormat(JSON)\n",
        "sparql.setMethod('POST')\n",
        "results = sparql.query().convert()\n",
        "res_gnd_to_wikidata = results[\"results\"][\"bindings\"]\n",
        "print(f\"{len(res_gnd_to_wikidata)} results\") "
      ],
      "metadata": {
        "colab": {
          "base_uri": "https://localhost:8080/"
        },
        "id": "g0V1O95EYTYH",
        "outputId": "fa537458-a1a5-4f6a-bce3-43b861676465"
      },
      "execution_count": 103,
      "outputs": [
        {
          "output_type": "stream",
          "name": "stdout",
          "text": [
            "15454 results\n"
          ]
        }
      ]
    },
    {
      "cell_type": "markdown",
      "source": [
        "Get GND -> VIAF ID's:"
      ],
      "metadata": {
        "id": "ujRbeDr2Z7kn"
      }
    },
    {
      "cell_type": "code",
      "source": [
        "sparql = SPARQLWrapper(\"https://query.wikidata.org/sparql\")\n",
        "sparql.setQuery(PREFIXES + \"\"\"\n",
        "SELECT * {\n",
        "  VALUES ?gnd_id {'\"\"\" + \"' '\".join(gnd_ids.keys()) + \"\"\"'}\n",
        "  ?wikidata_uri wdt:P227 ?gnd_id ;\n",
        "            wdt:P214 ?viaf_id . \n",
        "  BIND (URI(CONCAT(\"https://viaf.org/viaf/\", ?viaf_id)) AS ?viaf_uri)\n",
        "}\n",
        "#LIMIT 1\n",
        "\"\"\")\n",
        "\n",
        "sparql.setReturnFormat(JSON)\n",
        "sparql.setMethod('POST')\n",
        "results = sparql.query().convert()\n",
        "res_gnd_to_viaf = results[\"results\"][\"bindings\"]\n",
        "print(f\"{len(res_gnd_to_viaf)} results\") "
      ],
      "metadata": {
        "colab": {
          "base_uri": "https://localhost:8080/"
        },
        "id": "Lrj_ZuCQZ9Uq",
        "outputId": "0c4820a0-835c-43c5-a304-cd00936f51e0"
      },
      "execution_count": 104,
      "outputs": [
        {
          "output_type": "stream",
          "name": "stdout",
          "text": [
            "15719 results\n"
          ]
        }
      ]
    },
    {
      "cell_type": "markdown",
      "source": [
        "Get VIAF -> Wikidata ID's:\n"
      ],
      "metadata": {
        "id": "89vrviifZW30"
      }
    },
    {
      "cell_type": "code",
      "source": [
        "# TODO: do we have such data?\n",
        " #      # VIAF\n",
        " #                   wdt:P214 ?viaf_id . \n",
        " #     BIND (URI(CONCAT(\"https://viaf.org/viaf/\", ?viaf_id)) AS ?viaf_uri)\n",
        " #   }\n",
        " # }"
      ],
      "metadata": {
        "id": "EBVAIGryZXAX"
      },
      "execution_count": 75,
      "outputs": []
    },
    {
      "cell_type": "markdown",
      "source": [
        "Get VIAF -> GND ID's:"
      ],
      "metadata": {
        "id": "NUNnzWepaHOS"
      }
    },
    {
      "cell_type": "code",
      "source": [
        "# TODO: do we have such data?"
      ],
      "metadata": {
        "id": "UD6x4ZkvaJjX"
      },
      "execution_count": null,
      "outputs": []
    },
    {
      "cell_type": "markdown",
      "source": [
        "Write sameAs statements:"
      ],
      "metadata": {
        "id": "VnfWN4nebMCJ"
      }
    },
    {
      "cell_type": "code",
      "source": [
        "g = Graph()\n",
        "\n",
        "print(f\"{len(res_wikidata_to_gnd)} results\")\n",
        "for ob in res_wikidata_to_gnd[:10]:\n",
        "  print(ob)\n",
        "for ob in res_wikidata_to_gnd[:10]:\n",
        "  print(wikidata_ids[ob['wikidata_uri']['value']] + \" <same as> \" + ob['gnd_uri']['value'])\n",
        "for ob in res_wikidata_to_gnd:\n",
        "  g.add((URIRef(wikidata_ids[ob['wikidata_uri']['value']]), OWL.sameAs, URIRef(ob['gnd_uri']['value'])))\n",
        "\n",
        "print(f\"{len(res_wikidata_to_viaf)} results\")\n",
        "for ob in res_wikidata_to_viaf[:10]:\n",
        "  print(ob)\n",
        "for ob in res_wikidata_to_viaf[:10]:\n",
        "  print(wikidata_ids[ob['wikidata_uri']['value']] + \" <same as> \" + ob['viaf_uri']['value'])\n",
        "for ob in res_wikidata_to_viaf:\n",
        "  g.add((URIRef(wikidata_ids[ob['wikidata_uri']['value']]), OWL.sameAs, URIRef(ob['viaf_uri']['value'])))\n",
        "\n",
        "print(f\"{len(res_gnd_to_wikidata)} results\")\n",
        "for ob in res_gnd_to_wikidata[:10]:\n",
        "  print(ob)\n",
        "for ob in res_gnd_to_wikidata[:10]:\n",
        "  print(gnd_ids[ob['gnd_id']['value']] + \" <same as> \" + ob['wikidata_uri']['value'])\n",
        "for ob in res_gnd_to_wikidata:\n",
        "  g.add((URIRef(gnd_ids[ob['gnd_id']['value']]), OWL.sameAs, URIRef(ob['wikidata_uri']['value'])))\n",
        "\n",
        "print(f\"{len(res_gnd_to_viaf)} results\")\n",
        "for ob in res_gnd_to_viaf[:10]:\n",
        "  print(ob)\n",
        "for ob in res_gnd_to_viaf[:10]:\n",
        "  print(gnd_ids[ob['gnd_id']['value']] + \" <same as> \" + ob['viaf_uri']['value'])\n",
        "for ob in res_gnd_to_viaf:\n",
        "  g.add((URIRef(gnd_ids[ob['gnd_id']['value']]), OWL.sameAs, URIRef(ob['viaf_uri']['value'])))\n",
        "\n",
        "print(len(g))\n",
        "\n",
        "g.serialize(\"intavia-person-id-enrichment.ttl\")"
      ],
      "metadata": {
        "colab": {
          "base_uri": "https://localhost:8080/"
        },
        "id": "M_GNxwnObMPr",
        "outputId": "11712056-628a-44fc-a6c0-e85b5c252987"
      },
      "execution_count": 116,
      "outputs": [
        {
          "output_type": "stream",
          "name": "stdout",
          "text": [
            "1590 results\n",
            "{'wikidata_uri': {'type': 'uri', 'value': 'http://www.wikidata.org/entity/Q855'}, 'gnd_id': {'type': 'literal', 'value': '118642499'}, 'gnd_uri': {'type': 'uri', 'value': 'https://d-nb.info/gnd/118642499'}}\n",
            "{'wikidata_uri': {'type': 'uri', 'value': 'http://www.wikidata.org/entity/Q1043'}, 'gnd_id': {'type': 'literal', 'value': '118573349'}, 'gnd_uri': {'type': 'uri', 'value': 'https://d-nb.info/gnd/118573349'}}\n",
            "{'wikidata_uri': {'type': 'uri', 'value': 'http://www.wikidata.org/entity/Q1394'}, 'gnd_id': {'type': 'literal', 'value': '118640402'}, 'gnd_uri': {'type': 'uri', 'value': 'https://d-nb.info/gnd/118640402'}}\n",
            "{'wikidata_uri': {'type': 'uri', 'value': 'http://www.wikidata.org/entity/Q3098'}, 'gnd_id': {'type': 'literal', 'value': '1023037076'}, 'gnd_uri': {'type': 'uri', 'value': 'https://d-nb.info/gnd/1023037076'}}\n",
            "{'wikidata_uri': {'type': 'uri', 'value': 'http://www.wikidata.org/entity/Q4761'}, 'gnd_id': {'type': 'literal', 'value': '123062179'}, 'gnd_uri': {'type': 'uri', 'value': 'https://d-nb.info/gnd/123062179'}}\n",
            "{'wikidata_uri': {'type': 'uri', 'value': 'http://www.wikidata.org/entity/Q5752'}, 'gnd_id': {'type': 'literal', 'value': '118567055'}, 'gnd_uri': {'type': 'uri', 'value': 'https://d-nb.info/gnd/118567055'}}\n",
            "{'wikidata_uri': {'type': 'uri', 'value': 'http://www.wikidata.org/entity/Q8479'}, 'gnd_id': {'type': 'literal', 'value': '118592955'}, 'gnd_uri': {'type': 'uri', 'value': 'https://d-nb.info/gnd/118592955'}}\n",
            "{'wikidata_uri': {'type': 'uri', 'value': 'http://www.wikidata.org/entity/Q9554'}, 'gnd_id': {'type': 'literal', 'value': '118575449'}, 'gnd_uri': {'type': 'uri', 'value': 'https://d-nb.info/gnd/118575449'}}\n",
            "{'wikidata_uri': {'type': 'uri', 'value': 'http://www.wikidata.org/entity/Q13544'}, 'gnd_id': {'type': 'literal', 'value': '139578358'}, 'gnd_uri': {'type': 'uri', 'value': 'https://d-nb.info/gnd/139578358'}}\n",
            "{'wikidata_uri': {'type': 'uri', 'value': 'http://www.wikidata.org/entity/Q15189'}, 'gnd_id': {'type': 'literal', 'value': '118739549'}, 'gnd_uri': {'type': 'uri', 'value': 'https://d-nb.info/gnd/118739549'}}\n",
            "http://www.intavia.eu/personproxy/bs/5551 <same as> https://d-nb.info/gnd/118642499\n",
            "http://www.intavia.eu/personproxy/bs/6129 <same as> https://d-nb.info/gnd/118573349\n",
            "http://www.intavia.eu/personproxy/bs/1105 <same as> https://d-nb.info/gnd/118640402\n",
            "http://www.intavia.eu/personproxy/bs/4442 <same as> https://d-nb.info/gnd/1023037076\n",
            "http://www.intavia.eu/personproxy/bs/2797 <same as> https://d-nb.info/gnd/123062179\n",
            "http://www.intavia.eu/personproxy/bs/2623 <same as> https://d-nb.info/gnd/118567055\n",
            "http://www.intavia.eu/personproxy/bs/274 <same as> https://d-nb.info/gnd/118592955\n",
            "http://www.intavia.eu/personproxy/bs/4678 <same as> https://d-nb.info/gnd/118575449\n",
            "http://www.intavia.eu/personproxy/bs/4482 <same as> https://d-nb.info/gnd/139578358\n",
            "http://www.intavia.eu/personproxy/bs/278 <same as> https://d-nb.info/gnd/118739549\n",
            "2916 results\n",
            "{'wikidata_uri': {'type': 'uri', 'value': 'http://www.wikidata.org/entity/Q855'}, 'viaf_id': {'type': 'literal', 'value': '101787139'}, 'viaf_uri': {'type': 'uri', 'value': 'https://viaf.org/viaf/101787139'}}\n",
            "{'wikidata_uri': {'type': 'uri', 'value': 'http://www.wikidata.org/entity/Q1043'}, 'viaf_id': {'type': 'literal', 'value': '34594730'}, 'viaf_uri': {'type': 'uri', 'value': 'https://viaf.org/viaf/34594730'}}\n",
            "{'wikidata_uri': {'type': 'uri', 'value': 'http://www.wikidata.org/entity/Q1394'}, 'viaf_id': {'type': 'literal', 'value': '7393146'}, 'viaf_uri': {'type': 'uri', 'value': 'https://viaf.org/viaf/7393146'}}\n",
            "{'wikidata_uri': {'type': 'uri', 'value': 'http://www.wikidata.org/entity/Q3098'}, 'viaf_id': {'type': 'literal', 'value': '316739239'}, 'viaf_uri': {'type': 'uri', 'value': 'https://viaf.org/viaf/316739239'}}\n",
            "{'wikidata_uri': {'type': 'uri', 'value': 'http://www.wikidata.org/entity/Q4761'}, 'viaf_id': {'type': 'literal', 'value': '37114950'}, 'viaf_uri': {'type': 'uri', 'value': 'https://viaf.org/viaf/37114950'}}\n",
            "{'wikidata_uri': {'type': 'uri', 'value': 'http://www.wikidata.org/entity/Q5752'}, 'viaf_id': {'type': 'literal', 'value': '66469467'}, 'viaf_uri': {'type': 'uri', 'value': 'https://viaf.org/viaf/66469467'}}\n",
            "{'wikidata_uri': {'type': 'uri', 'value': 'http://www.wikidata.org/entity/Q8479'}, 'viaf_id': {'type': 'literal', 'value': '30329184'}, 'viaf_uri': {'type': 'uri', 'value': 'https://viaf.org/viaf/30329184'}}\n",
            "{'wikidata_uri': {'type': 'uri', 'value': 'http://www.wikidata.org/entity/Q9554'}, 'viaf_id': {'type': 'literal', 'value': '14773105'}, 'viaf_uri': {'type': 'uri', 'value': 'https://viaf.org/viaf/14773105'}}\n",
            "{'wikidata_uri': {'type': 'uri', 'value': 'http://www.wikidata.org/entity/Q13544'}, 'viaf_id': {'type': 'literal', 'value': '101303352'}, 'viaf_uri': {'type': 'uri', 'value': 'https://viaf.org/viaf/101303352'}}\n",
            "{'wikidata_uri': {'type': 'uri', 'value': 'http://www.wikidata.org/entity/Q15189'}, 'viaf_id': {'type': 'literal', 'value': '39415809'}, 'viaf_uri': {'type': 'uri', 'value': 'https://viaf.org/viaf/39415809'}}\n",
            "http://www.intavia.eu/personproxy/bs/5551 <same as> https://viaf.org/viaf/101787139\n",
            "http://www.intavia.eu/personproxy/bs/6129 <same as> https://viaf.org/viaf/34594730\n",
            "http://www.intavia.eu/personproxy/bs/1105 <same as> https://viaf.org/viaf/7393146\n",
            "http://www.intavia.eu/personproxy/bs/4442 <same as> https://viaf.org/viaf/316739239\n",
            "http://www.intavia.eu/personproxy/bs/2797 <same as> https://viaf.org/viaf/37114950\n",
            "http://www.intavia.eu/personproxy/bs/2623 <same as> https://viaf.org/viaf/66469467\n",
            "http://www.intavia.eu/personproxy/bs/274 <same as> https://viaf.org/viaf/30329184\n",
            "http://www.intavia.eu/personproxy/bs/4678 <same as> https://viaf.org/viaf/14773105\n",
            "http://www.intavia.eu/personproxy/bs/4482 <same as> https://viaf.org/viaf/101303352\n",
            "http://www.intavia.eu/personproxy/bs/278 <same as> https://viaf.org/viaf/39415809\n",
            "15454 results\n",
            "{'gnd_id': {'type': 'literal', 'value': '1026532256'}, 'wikidata_uri': {'type': 'uri', 'value': 'http://www.wikidata.org/entity/Q711007'}, 'gnd_uri': {'type': 'uri', 'value': 'https://d-nb.info/gnd/1026532256'}}\n",
            "{'gnd_id': {'type': 'literal', 'value': '128988215'}, 'wikidata_uri': {'type': 'uri', 'value': 'http://www.wikidata.org/entity/Q820393'}, 'gnd_uri': {'type': 'uri', 'value': 'https://d-nb.info/gnd/128988215'}}\n",
            "{'gnd_id': {'type': 'literal', 'value': '129813559'}, 'wikidata_uri': {'type': 'uri', 'value': 'http://www.wikidata.org/entity/Q1651086'}, 'gnd_uri': {'type': 'uri', 'value': 'https://d-nb.info/gnd/129813559'}}\n",
            "{'gnd_id': {'type': 'literal', 'value': '117437654'}, 'wikidata_uri': {'type': 'uri', 'value': 'http://www.wikidata.org/entity/Q7599226'}, 'gnd_uri': {'type': 'uri', 'value': 'https://d-nb.info/gnd/117437654'}}\n",
            "{'gnd_id': {'type': 'literal', 'value': '123147905'}, 'wikidata_uri': {'type': 'uri', 'value': 'http://www.wikidata.org/entity/Q11878641'}, 'gnd_uri': {'type': 'uri', 'value': 'https://d-nb.info/gnd/123147905'}}\n",
            "{'gnd_id': {'type': 'literal', 'value': '136064345'}, 'wikidata_uri': {'type': 'uri', 'value': 'http://www.wikidata.org/entity/Q20755530'}, 'gnd_uri': {'type': 'uri', 'value': 'https://d-nb.info/gnd/136064345'}}\n",
            "{'gnd_id': {'type': 'literal', 'value': '104204079'}, 'wikidata_uri': {'type': 'uri', 'value': 'http://www.wikidata.org/entity/Q55134044'}, 'gnd_uri': {'type': 'uri', 'value': 'https://d-nb.info/gnd/104204079'}}\n",
            "{'gnd_id': {'type': 'literal', 'value': '1026453380'}, 'wikidata_uri': {'type': 'uri', 'value': 'http://www.wikidata.org/entity/Q56328030'}, 'gnd_uri': {'type': 'uri', 'value': 'https://d-nb.info/gnd/1026453380'}}\n",
            "{'gnd_id': {'type': 'literal', 'value': '102647308X'}, 'wikidata_uri': {'type': 'uri', 'value': 'http://www.wikidata.org/entity/Q60820135'}, 'gnd_uri': {'type': 'uri', 'value': 'https://d-nb.info/gnd/102647308X'}}\n",
            "{'gnd_id': {'type': 'literal', 'value': '1034830503'}, 'wikidata_uri': {'type': 'uri', 'value': 'http://www.wikidata.org/entity/Q60822455'}, 'gnd_uri': {'type': 'uri', 'value': 'https://d-nb.info/gnd/1034830503'}}\n",
            "http://www.intavia.eu/apis/personproxy/49112 <same as> http://www.wikidata.org/entity/Q711007\n",
            "http://www.intavia.eu/apis/personproxy/49100 <same as> http://www.wikidata.org/entity/Q820393\n",
            "http://www.intavia.eu/apis/personproxy/33694 <same as> http://www.wikidata.org/entity/Q1651086\n",
            "http://www.intavia.eu/apis/personproxy/33752 <same as> http://www.wikidata.org/entity/Q7599226\n",
            "http://www.intavia.eu/apis/personproxy/33658 <same as> http://www.wikidata.org/entity/Q11878641\n",
            "http://www.intavia.eu/apis/personproxy/49085 <same as> http://www.wikidata.org/entity/Q20755530\n",
            "http://www.intavia.eu/apis/personproxy/33654 <same as> http://www.wikidata.org/entity/Q55134044\n",
            "http://www.intavia.eu/apis/personproxy/48970 <same as> http://www.wikidata.org/entity/Q56328030\n",
            "http://www.intavia.eu/apis/personproxy/49079 <same as> http://www.wikidata.org/entity/Q60820135\n",
            "http://www.intavia.eu/apis/personproxy/33676 <same as> http://www.wikidata.org/entity/Q60822455\n",
            "15719 results\n",
            "{'gnd_id': {'type': 'literal', 'value': '117425230'}, 'wikidata_uri': {'type': 'uri', 'value': 'http://www.wikidata.org/entity/Q94346'}, 'viaf_id': {'type': 'literal', 'value': '5708406'}, 'viaf_uri': {'type': 'uri', 'value': 'https://viaf.org/viaf/5708406'}}\n",
            "{'gnd_id': {'type': 'literal', 'value': '116178434'}, 'wikidata_uri': {'type': 'uri', 'value': 'http://www.wikidata.org/entity/Q94361'}, 'viaf_id': {'type': 'literal', 'value': '35201531'}, 'viaf_uri': {'type': 'uri', 'value': 'https://viaf.org/viaf/35201531'}}\n",
            "{'gnd_id': {'type': 'literal', 'value': '117655988'}, 'wikidata_uri': {'type': 'uri', 'value': 'http://www.wikidata.org/entity/Q95203'}, 'viaf_id': {'type': 'literal', 'value': '13090207'}, 'viaf_uri': {'type': 'uri', 'value': 'https://viaf.org/viaf/13090207'}}\n",
            "{'gnd_id': {'type': 'literal', 'value': '1020248807'}, 'wikidata_uri': {'type': 'uri', 'value': 'http://www.wikidata.org/entity/Q96225'}, 'viaf_id': {'type': 'literal', 'value': '84859525'}, 'viaf_uri': {'type': 'uri', 'value': 'https://viaf.org/viaf/84859525'}}\n",
            "{'gnd_id': {'type': 'literal', 'value': '116106409'}, 'wikidata_uri': {'type': 'uri', 'value': 'http://www.wikidata.org/entity/Q96341'}, 'viaf_id': {'type': 'literal', 'value': '755210'}, 'viaf_uri': {'type': 'uri', 'value': 'https://viaf.org/viaf/755210'}}\n",
            "{'gnd_id': {'type': 'literal', 'value': '116089067'}, 'wikidata_uri': {'type': 'uri', 'value': 'http://www.wikidata.org/entity/Q97522'}, 'viaf_id': {'type': 'literal', 'value': '57357315'}, 'viaf_uri': {'type': 'uri', 'value': 'https://viaf.org/viaf/57357315'}}\n",
            "{'gnd_id': {'type': 'literal', 'value': '118846493'}, 'wikidata_uri': {'type': 'uri', 'value': 'http://www.wikidata.org/entity/Q5454'}, 'viaf_id': {'type': 'literal', 'value': '56783361'}, 'viaf_uri': {'type': 'uri', 'value': 'https://viaf.org/viaf/56783361'}}\n",
            "{'gnd_id': {'type': 'literal', 'value': '118846493'}, 'wikidata_uri': {'type': 'uri', 'value': 'http://www.wikidata.org/entity/Q5454'}, 'viaf_id': {'type': 'literal', 'value': '8765158792861239040002'}, 'viaf_uri': {'type': 'uri', 'value': 'https://viaf.org/viaf/8765158792861239040002'}}\n",
            "{'gnd_id': {'type': 'literal', 'value': '131855549'}, 'wikidata_uri': {'type': 'uri', 'value': 'http://www.wikidata.org/entity/Q15803'}, 'viaf_id': {'type': 'literal', 'value': '9935574'}, 'viaf_uri': {'type': 'uri', 'value': 'https://viaf.org/viaf/9935574'}}\n",
            "{'gnd_id': {'type': 'literal', 'value': '130122955'}, 'wikidata_uri': {'type': 'uri', 'value': 'http://www.wikidata.org/entity/Q15944'}, 'viaf_id': {'type': 'literal', 'value': '62646722'}, 'viaf_uri': {'type': 'uri', 'value': 'https://viaf.org/viaf/62646722'}}\n",
            "http://www.intavia.eu/apis/personproxy/34102 <same as> https://viaf.org/viaf/5708406\n",
            "http://www.intavia.eu/apis/personproxy/50449 <same as> https://viaf.org/viaf/35201531\n",
            "http://www.intavia.eu/apis/personproxy/74033 <same as> https://viaf.org/viaf/13090207\n",
            "http://www.intavia.eu/apis/personproxy/60521 <same as> https://viaf.org/viaf/84859525\n",
            "http://www.intavia.eu/apis/personproxy/89549 <same as> https://viaf.org/viaf/755210\n",
            "http://www.intavia.eu/apis/personproxy/86228 <same as> https://viaf.org/viaf/57357315\n",
            "http://www.intavia.eu/apis/personproxy/90328 <same as> https://viaf.org/viaf/56783361\n",
            "http://www.intavia.eu/apis/personproxy/90328 <same as> https://viaf.org/viaf/8765158792861239040002\n",
            "http://www.intavia.eu/apis/personproxy/74483 <same as> https://viaf.org/viaf/9935574\n",
            "http://www.intavia.eu/apis/personproxy/88034 <same as> https://viaf.org/viaf/62646722\n",
            "35679\n"
          ]
        },
        {
          "output_type": "execute_result",
          "data": {
            "text/plain": [
              "<Graph identifier=N516024c07a5a481f887c95480b9173d1 (<class 'rdflib.graph.Graph'>)>"
            ]
          },
          "metadata": {},
          "execution_count": 116
        }
      ]
    },
    {
      "cell_type": "code",
      "source": [
        "from google.colab import files\n",
        "files.download(\"intavia-person-id-enrichment.ttl\")"
      ],
      "metadata": {
        "colab": {
          "base_uri": "https://localhost:8080/",
          "height": 17
        },
        "id": "Y8YkU9cMijis",
        "outputId": "9ee9b21f-53f3-4203-89fe-9e521b57d20e"
      },
      "execution_count": 115,
      "outputs": [
        {
          "output_type": "display_data",
          "data": {
            "text/plain": [
              "<IPython.core.display.Javascript object>"
            ],
            "application/javascript": [
              "\n",
              "    async function download(id, filename, size) {\n",
              "      if (!google.colab.kernel.accessAllowed) {\n",
              "        return;\n",
              "      }\n",
              "      const div = document.createElement('div');\n",
              "      const label = document.createElement('label');\n",
              "      label.textContent = `Downloading \"${filename}\": `;\n",
              "      div.appendChild(label);\n",
              "      const progress = document.createElement('progress');\n",
              "      progress.max = size;\n",
              "      div.appendChild(progress);\n",
              "      document.body.appendChild(div);\n",
              "\n",
              "      const buffers = [];\n",
              "      let downloaded = 0;\n",
              "\n",
              "      const channel = await google.colab.kernel.comms.open(id);\n",
              "      // Send a message to notify the kernel that we're ready.\n",
              "      channel.send({})\n",
              "\n",
              "      for await (const message of channel.messages) {\n",
              "        // Send a message to notify the kernel that we're ready.\n",
              "        channel.send({})\n",
              "        if (message.buffers) {\n",
              "          for (const buffer of message.buffers) {\n",
              "            buffers.push(buffer);\n",
              "            downloaded += buffer.byteLength;\n",
              "            progress.value = downloaded;\n",
              "          }\n",
              "        }\n",
              "      }\n",
              "      const blob = new Blob(buffers, {type: 'application/binary'});\n",
              "      const a = document.createElement('a');\n",
              "      a.href = window.URL.createObjectURL(blob);\n",
              "      a.download = filename;\n",
              "      div.appendChild(a);\n",
              "      a.click();\n",
              "      div.remove();\n",
              "    }\n",
              "  "
            ]
          },
          "metadata": {}
        },
        {
          "output_type": "display_data",
          "data": {
            "text/plain": [
              "<IPython.core.display.Javascript object>"
            ],
            "application/javascript": [
              "download(\"download_9e94f2e1-e8be-481f-9fc6-abf7d5c73f6c\", \"intavia-person-id-enrichment.ttl\", 2601165)"
            ]
          },
          "metadata": {}
        }
      ]
    }
  ]
}