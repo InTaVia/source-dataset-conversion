{
  "nbformat": 4,
  "nbformat_minor": 0,
  "metadata": {
    "colab": {
      "name": "PersonIDEnrichment.ipynb",
      "provenance": [],
      "collapsed_sections": [],
      "authorship_tag": "ABX9TyOYGeqks+cjbH8+WafKBe8x"
    },
    "kernelspec": {
      "name": "python3",
      "display_name": "Python 3"
    },
    "language_info": {
      "name": "python"
    }
  },
  "cells": [
    {
      "cell_type": "markdown",
      "source": [
        "Add additional external person ID's from Wikidata endpoint using source data's owl:sameAs links:\n",
        "\n",
        "*   Wikidata ID -> GND & VIAF (BS, Bionet)\n",
        "*   GND ID -> Wikidata & VIAF (APIS)\n",
        "*   SBI ID -> Wikidata, GND & VIAF (SBI)"
      ],
      "metadata": {
        "id": "eHWOhVGdF3sh"
      }
    },
    {
      "cell_type": "markdown",
      "source": [
        "Install the dependencies:"
      ],
      "metadata": {
        "id": "cI_P-JHlHGY2"
      }
    },
    {
      "cell_type": "code",
      "execution_count": 56,
      "metadata": {
        "colab": {
          "base_uri": "https://localhost:8080/"
        },
        "id": "aiyemyAdGtf3",
        "outputId": "b2bb3f4f-3306-4527-bde1-9e4b485ef721"
      },
      "outputs": [
        {
          "output_type": "stream",
          "name": "stdout",
          "text": [
            "Looking in indexes: https://pypi.org/simple, https://us-python.pkg.dev/colab-wheels/public/simple/\n",
            "Requirement already satisfied: SPARQLWrapper in /usr/local/lib/python3.7/dist-packages (2.0.0)\n",
            "Requirement already satisfied: rdflib in /usr/local/lib/python3.7/dist-packages (6.2.0)\n",
            "Requirement already satisfied: isodate in /usr/local/lib/python3.7/dist-packages (from rdflib) (0.6.1)\n",
            "Requirement already satisfied: pyparsing in /usr/local/lib/python3.7/dist-packages (from rdflib) (3.0.9)\n",
            "Requirement already satisfied: setuptools in /usr/local/lib/python3.7/dist-packages (from rdflib) (57.4.0)\n",
            "Requirement already satisfied: importlib-metadata in /usr/local/lib/python3.7/dist-packages (from rdflib) (4.12.0)\n",
            "Requirement already satisfied: zipp>=0.5 in /usr/local/lib/python3.7/dist-packages (from importlib-metadata->rdflib) (3.8.1)\n",
            "Requirement already satisfied: typing-extensions>=3.6.4 in /usr/local/lib/python3.7/dist-packages (from importlib-metadata->rdflib) (4.1.1)\n",
            "Requirement already satisfied: six in /usr/local/lib/python3.7/dist-packages (from isodate->rdflib) (1.15.0)\n"
          ]
        }
      ],
      "source": [
        "!pip install SPARQLWrapper rdflib\n",
        "from SPARQLWrapper import SPARQLWrapper, JSON\n",
        "from getpass import getpass\n",
        "import itertools\n",
        "from rdflib import Graph, URIRef, OWL"
      ]
    },
    {
      "cell_type": "markdown",
      "source": [
        "Input Intavia SPARQL endpoint credentials:"
      ],
      "metadata": {
        "id": "_J1DUOOcMnNf"
      }
    },
    {
      "cell_type": "code",
      "source": [
        "user = input(\"Username: \")\n",
        "password = getpass(\"Password: \")"
      ],
      "metadata": {
        "colab": {
          "base_uri": "https://localhost:8080/"
        },
        "id": "3x0EfDu9MtNl",
        "outputId": "75ff357e-a241-4f20-8f62-62d78f5e6b85"
      },
      "execution_count": 24,
      "outputs": [
        {
          "name": "stdout",
          "output_type": "stream",
          "text": [
            "Username: intavia\n",
            "Password: ··········\n"
          ]
        }
      ]
    },
    {
      "cell_type": "markdown",
      "source": [
        "Fetch person URIs and already existing external ID's:"
      ],
      "metadata": {
        "id": "oCT4Ut9FHKkz"
      }
    },
    {
      "cell_type": "code",
      "source": [
        "PREFIXES = \"\"\"\n",
        "PREFIX bds: <http://www.bigdata.com/rdf/search#>\n",
        "PREFIX crm: <http://www.cidoc-crm.org/cidoc-crm/>\n",
        "PREFIX bioc: <http://ldf.fi/schema/bioc/>\n",
        "PREFIX rdfs: <http://www.w3.org/2000/01/rdf-schema#>\n",
        "PREFIX idm: <https://www.intavia.eu/idm/>\n",
        "PREFIX idmcore: <http://www.intavia.eu/idm-core/>\n",
        "PREFIX idmcores: <https://www.intavia.eu/idm-core/>\n",
        "PREFIX owl: <http://www.w3.org/2002/07/owl#>\n",
        "PREFIX wdt: <http://www.wikidata.org/prop/direct/>\n",
        "\"\"\"\n",
        "\n",
        "sparql = SPARQLWrapper(\"https://triplestore.acdh-dev.oeaw.ac.at/intavia/sparql\")\n",
        "\n",
        "sparql.setQuery(PREFIXES + \"\"\"\n",
        "SELECT * {\n",
        "  # Existing sameAs links in Intavia data:\n",
        "  #  APIS (graph: http://apis.acdh.oeaw.ac.at/data -> GND (URI ns: https://d-nb.info/gnd/)\n",
        "  #  BS (graph: http://ldf.fi/nbf/data) -> Wikidata (URI ns: http://www.wikidata.org/entity/)\n",
        "  #  SBI (graph: http://www.intavia.eu/sbi) -> Slovenska biografija (URI ns: https://www.slovenska-biografija.si/oseba/) \n",
        "  #  BiographyNet (graph: http://data.biographynet.nl/rdf/data) -> Wikidata: TODO\n",
        "  #VALUES ?g { <http://apis.acdh.oeaw.ac.at/data> <http://ldf.fi/nbf/data> <http://www.intavia.eu/sbi> }\n",
        "  #GRAPH ?g {\n",
        "{\n",
        "    VALUES ?class { crm:E21_Person idmcore:Person_Proxy }\n",
        "    ?s a ?class ;\n",
        "       owl:sameAs ?ext_uri .\n",
        "}\n",
        "UNION\n",
        "{\n",
        "    ?ext_uri <http://www.wikidata.org/prop/direct/651>/^<http://www.intavia.eu/idm-core/person_proxy_for> ?s .\n",
        "}\n",
        "    # Filter out sameAs links to redundant national data sources\n",
        "    FILTER (!STRSTARTS(STR(?ext_uri), \"http://ldf.fi/nbf/\"))\n",
        "    FILTER (!STRSTARTS(STR(?ext_uri), \"https://apis.acdh.oeaw.ac.at/\"))\n",
        "    BIND (IF (STRSTARTS(STR(?ext_uri), \"https://www.slovenska-biografija.si/oseba/\"), \"https://www.slovenska-biografija.si/oseba/\", REPLACE(STR(?ext_uri), \"[^/]+$\", \"\")) as ?ext_ns)\n",
        "    BIND (IF (STRSTARTS(STR(?ext_uri), \"https://www.slovenska-biografija.si/oseba/\"), REPLACE(REPLACE(STR(?ext_uri), \"^https://www.slovenska-biografija.si/oseba/sbi\", \"\"), \"/\", \"\"), REPLACE(STR(?ext_uri), \"^.+/\", \"\")) AS ?ext_id)\n",
        "  #}\n",
        "}\n",
        "#LIMIT 1\n",
        "\"\"\")\n",
        "\n",
        "sparql.setReturnFormat(JSON)\n",
        "sparql.setMethod('POST')\n",
        "sparql.setCredentials(user, password)\n",
        "results = sparql.query().convert()\n",
        "res = results[\"results\"][\"bindings\"]\n",
        "print(f\"{len(res)} results\")\n",
        "print(f\"Datafields {results['head']['vars']}\")\n",
        "for ob in res[:10]:\n",
        "  print(ob)"
      ],
      "metadata": {
        "colab": {
          "base_uri": "https://localhost:8080/"
        },
        "id": "hn25clUmHXWJ",
        "outputId": "4fb0c920-333f-4167-b3e8-21dd0e066848"
      },
      "execution_count": 38,
      "outputs": [
        {
          "output_type": "stream",
          "name": "stdout",
          "text": [
            "142061 results\n",
            "Datafields ['class', 's', 'ext_uri', 'ext_ns', 'ext_id']\n",
            "{'ext_uri': {'type': 'uri', 'value': 'http://www.wikidata.org/entity/Q55902316'}, 's': {'type': 'uri', 'value': 'http://data.biographynet.nl/rdf/PersonDes-12650564_01'}, 'ext_ns': {'type': 'literal', 'value': 'http://www.wikidata.org/entity/'}, 'ext_id': {'type': 'literal', 'value': 'Q55902316'}}\n",
            "{'ext_uri': {'type': 'uri', 'value': 'http://www.wikidata.org/entity/Q55902316'}, 's': {'type': 'uri', 'value': 'http://data.biographynet.nl/rdf/PersonDes-12650564_02'}, 'ext_ns': {'type': 'literal', 'value': 'http://www.wikidata.org/entity/'}, 'ext_id': {'type': 'literal', 'value': 'Q55902316'}}\n",
            "{'ext_uri': {'type': 'uri', 'value': 'http://www.wikidata.org/entity/Q55902316'}, 's': {'type': 'uri', 'value': 'http://data.biographynet.nl/rdf/PersonDes-12650564_03'}, 'ext_ns': {'type': 'literal', 'value': 'http://www.wikidata.org/entity/'}, 'ext_id': {'type': 'literal', 'value': 'Q55902316'}}\n",
            "{'ext_uri': {'type': 'uri', 'value': 'http://www.wikidata.org/entity/Q55902316'}, 's': {'type': 'uri', 'value': 'http://data.biographynet.nl/rdf/PersonDes-12650564_04'}, 'ext_ns': {'type': 'literal', 'value': 'http://www.wikidata.org/entity/'}, 'ext_id': {'type': 'literal', 'value': 'Q55902316'}}\n",
            "{'ext_uri': {'type': 'uri', 'value': 'http://www.wikidata.org/entity/Q55902316'}, 's': {'type': 'uri', 'value': 'http://data.biographynet.nl/rdf/PersonDes-12650564_05'}, 'ext_ns': {'type': 'literal', 'value': 'http://www.wikidata.org/entity/'}, 'ext_id': {'type': 'literal', 'value': 'Q55902316'}}\n",
            "{'ext_uri': {'type': 'uri', 'value': 'http://www.wikidata.org/entity/Q55902316'}, 's': {'type': 'uri', 'value': 'http://data.biographynet.nl/rdf/PersonDes-12650564_06'}, 'ext_ns': {'type': 'literal', 'value': 'http://www.wikidata.org/entity/'}, 'ext_id': {'type': 'literal', 'value': 'Q55902316'}}\n",
            "{'ext_uri': {'type': 'uri', 'value': 'http://www.wikidata.org/entity/Q74523290'}, 's': {'type': 'uri', 'value': 'http://data.biographynet.nl/rdf/PersonDes-12655317_01'}, 'ext_ns': {'type': 'literal', 'value': 'http://www.wikidata.org/entity/'}, 'ext_id': {'type': 'literal', 'value': 'Q74523290'}}\n",
            "{'ext_uri': {'type': 'uri', 'value': 'http://www.wikidata.org/entity/Q74523290'}, 's': {'type': 'uri', 'value': 'http://data.biographynet.nl/rdf/PersonDes-12655317_02'}, 'ext_ns': {'type': 'literal', 'value': 'http://www.wikidata.org/entity/'}, 'ext_id': {'type': 'literal', 'value': 'Q74523290'}}\n",
            "{'ext_uri': {'type': 'uri', 'value': 'http://www.wikidata.org/entity/Q74523290'}, 's': {'type': 'uri', 'value': 'http://data.biographynet.nl/rdf/PersonDes-12655317_03'}, 'ext_ns': {'type': 'literal', 'value': 'http://www.wikidata.org/entity/'}, 'ext_id': {'type': 'literal', 'value': 'Q74523290'}}\n",
            "{'ext_uri': {'type': 'uri', 'value': 'http://www.wikidata.org/entity/Q74523290'}, 's': {'type': 'uri', 'value': 'http://data.biographynet.nl/rdf/PersonDes-12655317_04'}, 'ext_ns': {'type': 'literal', 'value': 'http://www.wikidata.org/entity/'}, 'ext_id': {'type': 'literal', 'value': 'Q74523290'}}\n"
          ]
        }
      ]
    },
    {
      "cell_type": "code",
      "source": [
        "wikidata_ids = dict()\n",
        "gnd_ids = dict()\n",
        "sbi_ids = dict()\n",
        "\n",
        "for ob in res:\n",
        "  if (ob['ext_ns']['value'] == \"http://www.wikidata.org/entity/\"):\n",
        "    wikidata_ids[ob['ext_uri']['value']] = ob['s']['value']\n",
        "  elif (ob['ext_ns']['value'] == \"https://d-nb.info/gnd/\"):\n",
        "    gnd_ids[ob['ext_id']['value']] = ob['s']['value']\n",
        "  elif (ob['ext_ns']['value'] == \"https://www.slovenska-biografija.si/oseba/\"):\n",
        "    sbi_ids[ob['ext_id']['value']] = ob['s']['value']\n"
      ],
      "metadata": {
        "id": "t2-o5JmDXY21"
      },
      "execution_count": 41,
      "outputs": []
    },
    {
      "cell_type": "markdown",
      "source": [
        "Get Wikidata -> GND ID's:"
      ],
      "metadata": {
        "id": "gb6zUSVQUh0V"
      }
    },
    {
      "cell_type": "code",
      "source": [
        "# Wikidata endpoint doesn't handle ~30 000 inline URIs in the query, so split the query:\n",
        "\n",
        "sparql = SPARQLWrapper(\"https://query.wikidata.org/sparql\")\n",
        "sparql.setQuery(PREFIXES + \"\"\"\n",
        "SELECT * {\n",
        "  VALUES ?wikidata_uri {<\"\"\" + '> <'.join(dict(itertools.islice(wikidata_ids.items(), 15000)).keys()) + \"\"\">}\n",
        "  ?wikidata_uri wdt:P227 ?gnd_id .\n",
        "  BIND (URI(CONCAT(\"https://d-nb.info/gnd/\", ?gnd_id)) AS ?gnd_uri)   \n",
        "}\n",
        "#LIMIT 1\n",
        "\"\"\")\n",
        "\n",
        "sparql.setReturnFormat(JSON)\n",
        "sparql.setMethod('POST')\n",
        "results = sparql.query().convert()\n",
        "res_wikidata_to_gnd = results[\"results\"][\"bindings\"]\n",
        "print(f\"{len(res_wikidata_to_gnd)} results\")\n",
        "\n",
        "sparql.setQuery(PREFIXES + \"\"\"\n",
        "SELECT * {\n",
        "  VALUES ?wikidata_uri {<\"\"\" + '> <'.join(dict(itertools.islice(wikidata_ids.items(), 15000, len(wikidata_ids))).keys()) + \"\"\">}\n",
        "  ?wikidata_uri wdt:P227 ?gnd_id .\n",
        "  BIND (URI(CONCAT(\"https://d-nb.info/gnd/\", ?gnd_id)) AS ?gnd_uri)   \n",
        "}\n",
        "#LIMIT 1\n",
        "\"\"\")\n",
        "\n",
        "sparql.setReturnFormat(JSON)\n",
        "sparql.setMethod('POST')\n",
        "results = sparql.query().convert()\n",
        "print(f'{len(results[\"results\"][\"bindings\"])} results')\n",
        "res_wikidata_to_gnd += results[\"results\"][\"bindings\"]"
      ],
      "metadata": {
        "colab": {
          "base_uri": "https://localhost:8080/"
        },
        "id": "yGZbeVQePztQ",
        "outputId": "967f870f-d1cf-4bf0-c2b0-8e2fa80853ad"
      },
      "execution_count": 61,
      "outputs": [
        {
          "output_type": "stream",
          "name": "stdout",
          "text": [
            "4855 results\n",
            "4446 results\n"
          ]
        }
      ]
    },
    {
      "cell_type": "markdown",
      "source": [
        "Get Wikidata -> VIAF ID's:"
      ],
      "metadata": {
        "id": "D47KG4M-Xlkz"
      }
    },
    {
      "cell_type": "code",
      "source": [
        "# Wikidata endpoint doesn't handle ~30 000 inline URIs in the query, so split the query:\n",
        "\n",
        "sparql = SPARQLWrapper(\"https://query.wikidata.org/sparql\")\n",
        "sparql.setQuery(PREFIXES + \"\"\"\n",
        "SELECT * {\n",
        "  VALUES ?wikidata_uri {<\"\"\" + '> <'.join(dict(itertools.islice(wikidata_ids.items(), 15000)).keys()) + \"\"\">}\n",
        "  ?wikidata_uri wdt:P214 ?viaf_id . \n",
        "  BIND (URI(CONCAT(\"https://viaf.org/viaf/\", ?viaf_id)) AS ?viaf_uri)\n",
        "}\n",
        "#LIMIT 1\n",
        "\"\"\")\n",
        "\n",
        "sparql.setReturnFormat(JSON)\n",
        "sparql.setMethod('POST')\n",
        "results = sparql.query().convert()\n",
        "res_wikidata_to_viaf = results[\"results\"][\"bindings\"]\n",
        "print(f\"{len(res_wikidata_to_viaf)} results\")\n",
        "\n",
        "sparql.setQuery(PREFIXES + \"\"\"\n",
        "SELECT * {\n",
        "  VALUES ?wikidata_uri {<\"\"\" + '> <'.join(dict(itertools.islice(wikidata_ids.items(), 15000, len(wikidata_ids))).keys()) + \"\"\">}\n",
        "  ?wikidata_uri wdt:P214 ?viaf_id . \n",
        "  BIND (URI(CONCAT(\"https://viaf.org/viaf/\", ?viaf_id)) AS ?viaf_uri)\n",
        "}\n",
        "#LIMIT 1\n",
        "\"\"\")\n",
        "\n",
        "sparql.setReturnFormat(JSON)\n",
        "sparql.setMethod('POST')\n",
        "results = sparql.query().convert()\n",
        "\n",
        "print(f'{len(results[\"results\"][\"bindings\"])} results')\n",
        "res_wikidata_to_viaf += results[\"results\"][\"bindings\"]"
      ],
      "metadata": {
        "colab": {
          "base_uri": "https://localhost:8080/"
        },
        "id": "3UAYUM0BXlyY",
        "outputId": "afa7daf8-c2c5-4779-fdf6-e417f94b3f24"
      },
      "execution_count": 64,
      "outputs": [
        {
          "output_type": "stream",
          "name": "stdout",
          "text": [
            "9358 results\n",
            "9213 results\n"
          ]
        }
      ]
    },
    {
      "cell_type": "markdown",
      "source": [
        "Get GND -> Wikidata ID's:"
      ],
      "metadata": {
        "id": "tOfsuw_8YRL7"
      }
    },
    {
      "cell_type": "code",
      "source": [
        "sparql = SPARQLWrapper(\"https://query.wikidata.org/sparql\")\n",
        "sparql.setQuery(PREFIXES + \"\"\"\n",
        "SELECT * {\n",
        "  VALUES ?gnd_id {'\"\"\" + \"' '\".join(gnd_ids.keys()) + \"\"\"'}\n",
        "  ?wikidata_uri wdt:P227 ?gnd_id .\n",
        "}\n",
        "#LIMIT 1\n",
        "\"\"\")\n",
        "\n",
        "sparql.setReturnFormat(JSON)\n",
        "sparql.setMethod('POST')\n",
        "results = sparql.query().convert()\n",
        "res_gnd_to_wikidata = results[\"results\"][\"bindings\"]\n",
        "print(f\"{len(res_gnd_to_wikidata)} results\") "
      ],
      "metadata": {
        "colab": {
          "base_uri": "https://localhost:8080/"
        },
        "id": "g0V1O95EYTYH",
        "outputId": "00466ec7-bfc7-48ee-9d4e-ee88011c17d3"
      },
      "execution_count": 29,
      "outputs": [
        {
          "output_type": "stream",
          "name": "stdout",
          "text": [
            "15454 results\n"
          ]
        }
      ]
    },
    {
      "cell_type": "markdown",
      "source": [
        "Get GND -> VIAF ID's:"
      ],
      "metadata": {
        "id": "ujRbeDr2Z7kn"
      }
    },
    {
      "cell_type": "code",
      "source": [
        "sparql = SPARQLWrapper(\"https://query.wikidata.org/sparql\")\n",
        "sparql.setQuery(PREFIXES + \"\"\"\n",
        "SELECT * {\n",
        "  VALUES ?gnd_id {'\"\"\" + \"' '\".join(gnd_ids.keys()) + \"\"\"'}\n",
        "  ?wikidata_uri wdt:P227 ?gnd_id ;\n",
        "                wdt:P214 ?viaf_id . \n",
        "  BIND (URI(CONCAT(\"https://viaf.org/viaf/\", ?viaf_id)) AS ?viaf_uri)\n",
        "}\n",
        "#LIMIT 1\n",
        "\"\"\")\n",
        "\n",
        "sparql.setReturnFormat(JSON)\n",
        "sparql.setMethod('POST')\n",
        "results = sparql.query().convert()\n",
        "res_gnd_to_viaf = results[\"results\"][\"bindings\"]\n",
        "print(f\"{len(res_gnd_to_viaf)} results\") "
      ],
      "metadata": {
        "colab": {
          "base_uri": "https://localhost:8080/"
        },
        "id": "Lrj_ZuCQZ9Uq",
        "outputId": "f6f916b0-4dc2-4d25-9359-e25c3e8a0c2c"
      },
      "execution_count": 30,
      "outputs": [
        {
          "output_type": "stream",
          "name": "stdout",
          "text": [
            "15719 results\n"
          ]
        }
      ]
    },
    {
      "cell_type": "markdown",
      "source": [
        "Get SBI -> Wikidata ID's:"
      ],
      "metadata": {
        "id": "KdUrKlzGBIY8"
      }
    },
    {
      "cell_type": "code",
      "source": [
        "sparql = SPARQLWrapper(\"https://query.wikidata.org/sparql\")\n",
        "sparql.setQuery(PREFIXES + \"\"\"\n",
        "SELECT * {\n",
        "  VALUES ?sbi_id {'\"\"\" + \"' '\".join(sbi_ids.keys()) + \"\"\"'}\n",
        "  ?wikidata_uri wdt:P1254 ?sbi_id .\n",
        "}\n",
        "#LIMIT 1\n",
        "\"\"\")\n",
        "\n",
        "sparql.setReturnFormat(JSON)\n",
        "sparql.setMethod('POST')\n",
        "results = sparql.query().convert()\n",
        "res_sbi_to_wikidata = results[\"results\"][\"bindings\"]\n",
        "print(f\"{len(res_sbi_to_wikidata)} results\")"
      ],
      "metadata": {
        "colab": {
          "base_uri": "https://localhost:8080/"
        },
        "id": "iKuh4OTqBIiT",
        "outputId": "43f971d7-b3f4-4d92-e81a-e6bf32a89b99"
      },
      "execution_count": 31,
      "outputs": [
        {
          "output_type": "stream",
          "name": "stdout",
          "text": [
            "7751 results\n"
          ]
        }
      ]
    },
    {
      "cell_type": "markdown",
      "source": [
        "Get SBI -> GND ID'S:"
      ],
      "metadata": {
        "id": "uLLnJJviDJFK"
      }
    },
    {
      "cell_type": "code",
      "source": [
        "sparql = SPARQLWrapper(\"https://query.wikidata.org/sparql\")\n",
        "sparql.setQuery(PREFIXES + \"\"\"\n",
        "SELECT * {\n",
        "  VALUES ?sbi_id {'\"\"\" + \"' '\".join(sbi_ids.keys()) + \"\"\"'}\n",
        "  ?wikidata_uri wdt:P1254 ?sbi_id ;\n",
        "                wdt:P227 ?gnd_id . \n",
        "  BIND (URI(CONCAT(\"https://d-nb.info/gnd/\", ?gnd_id)) AS ?gnd_uri)\n",
        "}\n",
        "#LIMIT 1\n",
        "\"\"\")\n",
        "\n",
        "sparql.setReturnFormat(JSON)\n",
        "sparql.setMethod('POST')\n",
        "results = sparql.query().convert()\n",
        "res_sbi_to_gnd = results[\"results\"][\"bindings\"]\n",
        "print(f\"{len(res_sbi_to_gnd)} results\")"
      ],
      "metadata": {
        "colab": {
          "base_uri": "https://localhost:8080/"
        },
        "id": "pSGv6MdbDLMB",
        "outputId": "dd31a6a1-7b46-464a-fc2a-7396d00b2471"
      },
      "execution_count": 32,
      "outputs": [
        {
          "output_type": "stream",
          "name": "stdout",
          "text": [
            "1707 results\n"
          ]
        }
      ]
    },
    {
      "cell_type": "markdown",
      "source": [
        "Get SBI -> VIAF ID's:"
      ],
      "metadata": {
        "id": "Gec6L42oDLUt"
      }
    },
    {
      "cell_type": "code",
      "source": [
        "sparql = SPARQLWrapper(\"https://query.wikidata.org/sparql\")\n",
        "sparql.setQuery(PREFIXES + \"\"\"\n",
        "SELECT * {\n",
        "  VALUES ?sbi_id {'\"\"\" + \"' '\".join(sbi_ids.keys()) + \"\"\"'}\n",
        "  ?wikidata_uri wdt:P1254 ?sbi_id ;\n",
        "                wdt:P214 ?viaf_id . \n",
        "  BIND (URI(CONCAT(\"https://viaf.org/viaf/\", ?viaf_id)) AS ?viaf_uri)\n",
        "}\n",
        "#LIMIT 1\n",
        "\"\"\")\n",
        "\n",
        "sparql.setReturnFormat(JSON)\n",
        "sparql.setMethod('POST')\n",
        "results = sparql.query().convert()\n",
        "res_sbi_to_viaf = results[\"results\"][\"bindings\"]\n",
        "print(f\"{len(res_sbi_to_viaf)} results\") "
      ],
      "metadata": {
        "colab": {
          "base_uri": "https://localhost:8080/"
        },
        "id": "3cu38hujDPmp",
        "outputId": "9253e98a-0964-4618-e644-87c15e0ef6b2"
      },
      "execution_count": 33,
      "outputs": [
        {
          "output_type": "stream",
          "name": "stdout",
          "text": [
            "3951 results\n"
          ]
        }
      ]
    },
    {
      "cell_type": "markdown",
      "source": [
        "Write sameAs statements:"
      ],
      "metadata": {
        "id": "VnfWN4nebMCJ"
      }
    },
    {
      "cell_type": "code",
      "source": [
        "g = Graph()\n",
        "\n",
        "print(f\"{len(res_wikidata_to_gnd)} results\")\n",
        "for ob in res_wikidata_to_gnd[:10]:\n",
        "  print(ob)\n",
        "for ob in res_wikidata_to_gnd[:10]:\n",
        "  print(wikidata_ids[ob['wikidata_uri']['value']] + \" <same as> \" + ob['gnd_uri']['value'])\n",
        "for ob in res_wikidata_to_gnd:\n",
        "  g.add((URIRef(wikidata_ids[ob['wikidata_uri']['value']]), OWL.sameAs, URIRef(ob['gnd_uri']['value'])))\n",
        "\n",
        "print(f\"{len(res_wikidata_to_viaf)} results\")\n",
        "for ob in res_wikidata_to_viaf[:10]:\n",
        "  print(ob)\n",
        "for ob in res_wikidata_to_viaf[:10]:\n",
        "  print(wikidata_ids[ob['wikidata_uri']['value']] + \" <same as> \" + ob['viaf_uri']['value'])\n",
        "for ob in res_wikidata_to_viaf:\n",
        "  g.add((URIRef(wikidata_ids[ob['wikidata_uri']['value']]), OWL.sameAs, URIRef(ob['viaf_uri']['value'])))\n",
        "\n",
        "print(f\"{len(res_gnd_to_wikidata)} results\")\n",
        "for ob in res_gnd_to_wikidata[:10]:\n",
        "  print(ob)\n",
        "for ob in res_gnd_to_wikidata[:10]:\n",
        "  print(gnd_ids[ob['gnd_id']['value']] + \" <same as> \" + ob['wikidata_uri']['value'])\n",
        "for ob in res_gnd_to_wikidata:\n",
        "  g.add((URIRef(gnd_ids[ob['gnd_id']['value']]), OWL.sameAs, URIRef(ob['wikidata_uri']['value'])))\n",
        "\n",
        "print(f\"{len(res_gnd_to_viaf)} results\")\n",
        "for ob in res_gnd_to_viaf[:10]:\n",
        "  print(ob)\n",
        "for ob in res_gnd_to_viaf[:10]:\n",
        "  print(gnd_ids[ob['gnd_id']['value']] + \" <same as> \" + ob['viaf_uri']['value'])\n",
        "for ob in res_gnd_to_viaf:\n",
        "  g.add((URIRef(gnd_ids[ob['gnd_id']['value']]), OWL.sameAs, URIRef(ob['viaf_uri']['value'])))\n",
        "\n",
        "print(f\"{len(res_sbi_to_wikidata)} results\")\n",
        "for ob in res_sbi_to_wikidata[:10]:\n",
        "  print(ob)\n",
        "for ob in res_sbi_to_wikidata[:10]:\n",
        "  print(sbi_ids[ob['sbi_id']['value']] + \" <same as> \" + ob['wikidata_uri']['value'])\n",
        "for ob in res_sbi_to_wikidata:\n",
        "  g.add((URIRef(sbi_ids[ob['sbi_id']['value']]), OWL.sameAs, URIRef(ob['wikidata_uri']['value'])))\n",
        "\n",
        "print(f\"{len(res_sbi_to_gnd)} results\")\n",
        "for ob in res_sbi_to_gnd[:10]:\n",
        "  print(ob)\n",
        "for ob in res_sbi_to_gnd[:10]:\n",
        "  print(sbi_ids[ob['sbi_id']['value']] + \" <same as> \" + ob['gnd_uri']['value'])\n",
        "for ob in res_sbi_to_gnd:\n",
        "  g.add((URIRef(sbi_ids[ob['sbi_id']['value']]), OWL.sameAs, URIRef(ob['gnd_uri']['value'])))\n",
        "\n",
        "print(f\"{len(res_sbi_to_viaf)} results\")\n",
        "for ob in res_sbi_to_viaf[:10]:\n",
        "  print(ob)\n",
        "for ob in res_sbi_to_viaf[:10]:\n",
        "  print(sbi_ids[ob['sbi_id']['value']] + \" <same as> \" + ob['viaf_uri']['value'])\n",
        "for ob in res_sbi_to_viaf:\n",
        "  g.add((URIRef(sbi_ids[ob['sbi_id']['value']]), OWL.sameAs, URIRef(ob['viaf_uri']['value'])))\n",
        "\n",
        "print(len(g))\n",
        "\n",
        "g.serialize(\"intavia-person-id-enrichment.ttl\")"
      ],
      "metadata": {
        "colab": {
          "base_uri": "https://localhost:8080/"
        },
        "id": "M_GNxwnObMPr",
        "outputId": "bc5aa1de-d4bb-46c3-f363-a391cc1be88b"
      },
      "execution_count": 65,
      "outputs": [
        {
          "output_type": "stream",
          "name": "stdout",
          "text": [
            "9301 results\n",
            "{'wikidata_uri': {'type': 'uri', 'value': 'http://www.wikidata.org/entity/Q742'}, 'gnd_id': {'type': 'literal', 'value': '118597523'}, 'gnd_uri': {'type': 'uri', 'value': 'https://d-nb.info/gnd/118597523'}}\n",
            "{'wikidata_uri': {'type': 'uri', 'value': 'http://www.wikidata.org/entity/Q855'}, 'gnd_id': {'type': 'literal', 'value': '118642499'}, 'gnd_uri': {'type': 'uri', 'value': 'https://d-nb.info/gnd/118642499'}}\n",
            "{'wikidata_uri': {'type': 'uri', 'value': 'http://www.wikidata.org/entity/Q1043'}, 'gnd_id': {'type': 'literal', 'value': '118573349'}, 'gnd_uri': {'type': 'uri', 'value': 'https://d-nb.info/gnd/118573349'}}\n",
            "{'wikidata_uri': {'type': 'uri', 'value': 'http://www.wikidata.org/entity/Q1394'}, 'gnd_id': {'type': 'literal', 'value': '118640402'}, 'gnd_uri': {'type': 'uri', 'value': 'https://d-nb.info/gnd/118640402'}}\n",
            "{'wikidata_uri': {'type': 'uri', 'value': 'http://www.wikidata.org/entity/Q3098'}, 'gnd_id': {'type': 'literal', 'value': '1023037076'}, 'gnd_uri': {'type': 'uri', 'value': 'https://d-nb.info/gnd/1023037076'}}\n",
            "{'wikidata_uri': {'type': 'uri', 'value': 'http://www.wikidata.org/entity/Q4761'}, 'gnd_id': {'type': 'literal', 'value': '123062179'}, 'gnd_uri': {'type': 'uri', 'value': 'https://d-nb.info/gnd/123062179'}}\n",
            "{'wikidata_uri': {'type': 'uri', 'value': 'http://www.wikidata.org/entity/Q5582'}, 'gnd_id': {'type': 'literal', 'value': '118540416'}, 'gnd_uri': {'type': 'uri', 'value': 'https://d-nb.info/gnd/118540416'}}\n",
            "{'wikidata_uri': {'type': 'uri', 'value': 'http://www.wikidata.org/entity/Q5752'}, 'gnd_id': {'type': 'literal', 'value': '118567055'}, 'gnd_uri': {'type': 'uri', 'value': 'https://d-nb.info/gnd/118567055'}}\n",
            "{'wikidata_uri': {'type': 'uri', 'value': 'http://www.wikidata.org/entity/Q6353'}, 'gnd_id': {'type': 'literal', 'value': '118580973'}, 'gnd_uri': {'type': 'uri', 'value': 'https://d-nb.info/gnd/118580973'}}\n",
            "{'wikidata_uri': {'type': 'uri', 'value': 'http://www.wikidata.org/entity/Q6691'}, 'gnd_id': {'type': 'literal', 'value': '11855333X'}, 'gnd_uri': {'type': 'uri', 'value': 'https://d-nb.info/gnd/11855333X'}}\n",
            "http://data.biographynet.nl/rdf/PersonDes-12420319_04 <same as> https://d-nb.info/gnd/118597523\n",
            "http://www.intavia.eu/personproxy/bs/5551 <same as> https://d-nb.info/gnd/118642499\n",
            "http://www.intavia.eu/personproxy/bs/6129 <same as> https://d-nb.info/gnd/118573349\n",
            "http://www.intavia.eu/personproxy/bs/1105 <same as> https://d-nb.info/gnd/118640402\n",
            "http://www.intavia.eu/personproxy/bs/4442 <same as> https://d-nb.info/gnd/1023037076\n",
            "http://www.intavia.eu/personproxy/bs/2797 <same as> https://d-nb.info/gnd/123062179\n",
            "http://data.biographynet.nl/rdf/PersonDes-32545490_08 <same as> https://d-nb.info/gnd/118540416\n",
            "http://www.intavia.eu/personproxy/bs/2623 <same as> https://d-nb.info/gnd/118567055\n",
            "http://data.biographynet.nl/rdf/PersonDes-10103184_16 <same as> https://d-nb.info/gnd/118580973\n",
            "http://data.biographynet.nl/rdf/PersonDes-11060730_04 <same as> https://d-nb.info/gnd/11855333X\n",
            "18571 results\n",
            "{'wikidata_uri': {'type': 'uri', 'value': 'http://www.wikidata.org/entity/Q742'}, 'viaf_id': {'type': 'literal', 'value': '88809641'}, 'viaf_uri': {'type': 'uri', 'value': 'https://viaf.org/viaf/88809641'}}\n",
            "{'wikidata_uri': {'type': 'uri', 'value': 'http://www.wikidata.org/entity/Q855'}, 'viaf_id': {'type': 'literal', 'value': '101787139'}, 'viaf_uri': {'type': 'uri', 'value': 'https://viaf.org/viaf/101787139'}}\n",
            "{'wikidata_uri': {'type': 'uri', 'value': 'http://www.wikidata.org/entity/Q1043'}, 'viaf_id': {'type': 'literal', 'value': '34594730'}, 'viaf_uri': {'type': 'uri', 'value': 'https://viaf.org/viaf/34594730'}}\n",
            "{'wikidata_uri': {'type': 'uri', 'value': 'http://www.wikidata.org/entity/Q1394'}, 'viaf_id': {'type': 'literal', 'value': '7393146'}, 'viaf_uri': {'type': 'uri', 'value': 'https://viaf.org/viaf/7393146'}}\n",
            "{'wikidata_uri': {'type': 'uri', 'value': 'http://www.wikidata.org/entity/Q3098'}, 'viaf_id': {'type': 'literal', 'value': '316739239'}, 'viaf_uri': {'type': 'uri', 'value': 'https://viaf.org/viaf/316739239'}}\n",
            "{'wikidata_uri': {'type': 'uri', 'value': 'http://www.wikidata.org/entity/Q4761'}, 'viaf_id': {'type': 'literal', 'value': '37114950'}, 'viaf_uri': {'type': 'uri', 'value': 'https://viaf.org/viaf/37114950'}}\n",
            "{'wikidata_uri': {'type': 'uri', 'value': 'http://www.wikidata.org/entity/Q5582'}, 'viaf_id': {'type': 'literal', 'value': '9854560'}, 'viaf_uri': {'type': 'uri', 'value': 'https://viaf.org/viaf/9854560'}}\n",
            "{'wikidata_uri': {'type': 'uri', 'value': 'http://www.wikidata.org/entity/Q5752'}, 'viaf_id': {'type': 'literal', 'value': '66469467'}, 'viaf_uri': {'type': 'uri', 'value': 'https://viaf.org/viaf/66469467'}}\n",
            "{'wikidata_uri': {'type': 'uri', 'value': 'http://www.wikidata.org/entity/Q6353'}, 'viaf_id': {'type': 'literal', 'value': '30352476'}, 'viaf_uri': {'type': 'uri', 'value': 'https://viaf.org/viaf/30352476'}}\n",
            "{'wikidata_uri': {'type': 'uri', 'value': 'http://www.wikidata.org/entity/Q6691'}, 'viaf_id': {'type': 'literal', 'value': '224924963'}, 'viaf_uri': {'type': 'uri', 'value': 'https://viaf.org/viaf/224924963'}}\n",
            "http://data.biographynet.nl/rdf/PersonDes-12420319_04 <same as> https://viaf.org/viaf/88809641\n",
            "http://www.intavia.eu/personproxy/bs/5551 <same as> https://viaf.org/viaf/101787139\n",
            "http://www.intavia.eu/personproxy/bs/6129 <same as> https://viaf.org/viaf/34594730\n",
            "http://www.intavia.eu/personproxy/bs/1105 <same as> https://viaf.org/viaf/7393146\n",
            "http://www.intavia.eu/personproxy/bs/4442 <same as> https://viaf.org/viaf/316739239\n",
            "http://www.intavia.eu/personproxy/bs/2797 <same as> https://viaf.org/viaf/37114950\n",
            "http://data.biographynet.nl/rdf/PersonDes-32545490_08 <same as> https://viaf.org/viaf/9854560\n",
            "http://www.intavia.eu/personproxy/bs/2623 <same as> https://viaf.org/viaf/66469467\n",
            "http://data.biographynet.nl/rdf/PersonDes-10103184_16 <same as> https://viaf.org/viaf/30352476\n",
            "http://data.biographynet.nl/rdf/PersonDes-11060730_04 <same as> https://viaf.org/viaf/224924963\n",
            "15454 results\n",
            "{'gnd_id': {'type': 'literal', 'value': '118846493'}, 'wikidata_uri': {'type': 'uri', 'value': 'http://www.wikidata.org/entity/Q5454'}}\n",
            "{'gnd_id': {'type': 'literal', 'value': '130122955'}, 'wikidata_uri': {'type': 'uri', 'value': 'http://www.wikidata.org/entity/Q15944'}}\n",
            "{'gnd_id': {'type': 'literal', 'value': '131855549'}, 'wikidata_uri': {'type': 'uri', 'value': 'http://www.wikidata.org/entity/Q15803'}}\n",
            "{'gnd_id': {'type': 'literal', 'value': '118607499'}, 'wikidata_uri': {'type': 'uri', 'value': 'http://www.wikidata.org/entity/Q44032'}}\n",
            "{'gnd_id': {'type': 'literal', 'value': '118502255'}, 'wikidata_uri': {'type': 'uri', 'value': 'http://www.wikidata.org/entity/Q44972'}}\n",
            "{'gnd_id': {'type': 'literal', 'value': '118555006'}, 'wikidata_uri': {'type': 'uri', 'value': 'http://www.wikidata.org/entity/Q58586'}}\n",
            "{'gnd_id': {'type': 'literal', 'value': '118569597'}, 'wikidata_uri': {'type': 'uri', 'value': 'http://www.wikidata.org/entity/Q44927'}}\n",
            "{'gnd_id': {'type': 'literal', 'value': '118589768'}, 'wikidata_uri': {'type': 'uri', 'value': 'http://www.wikidata.org/entity/Q44911'}}\n",
            "{'gnd_id': {'type': 'literal', 'value': '118647652'}, 'wikidata_uri': {'type': 'uri', 'value': 'http://www.wikidata.org/entity/Q60657'}}\n",
            "{'gnd_id': {'type': 'literal', 'value': '118753444'}, 'wikidata_uri': {'type': 'uri', 'value': 'http://www.wikidata.org/entity/Q45580'}}\n",
            "http://www.intavia.eu/apis/personproxy/90328 <same as> http://www.wikidata.org/entity/Q5454\n",
            "http://www.intavia.eu/apis/personproxy/88034 <same as> http://www.wikidata.org/entity/Q15944\n",
            "http://www.intavia.eu/apis/personproxy/74483 <same as> http://www.wikidata.org/entity/Q15803\n",
            "http://www.intavia.eu/apis/personproxy/41572 <same as> http://www.wikidata.org/entity/Q44032\n",
            "http://www.intavia.eu/apis/personproxy/84679 <same as> http://www.wikidata.org/entity/Q44972\n",
            "http://www.intavia.eu/apis/personproxy/75584 <same as> http://www.wikidata.org/entity/Q58586\n",
            "http://www.intavia.eu/apis/personproxy/65257 <same as> http://www.wikidata.org/entity/Q44927\n",
            "http://www.intavia.eu/apis/personproxy/53354 <same as> http://www.wikidata.org/entity/Q44911\n",
            "http://www.intavia.eu/apis/personproxy/90323 <same as> http://www.wikidata.org/entity/Q60657\n",
            "http://www.intavia.eu/apis/personproxy/31553 <same as> http://www.wikidata.org/entity/Q45580\n",
            "15719 results\n",
            "{'gnd_id': {'type': 'literal', 'value': '117425230'}, 'wikidata_uri': {'type': 'uri', 'value': 'http://www.wikidata.org/entity/Q94346'}, 'viaf_id': {'type': 'literal', 'value': '5708406'}, 'viaf_uri': {'type': 'uri', 'value': 'https://viaf.org/viaf/5708406'}}\n",
            "{'gnd_id': {'type': 'literal', 'value': '116178434'}, 'wikidata_uri': {'type': 'uri', 'value': 'http://www.wikidata.org/entity/Q94361'}, 'viaf_id': {'type': 'literal', 'value': '35201531'}, 'viaf_uri': {'type': 'uri', 'value': 'https://viaf.org/viaf/35201531'}}\n",
            "{'gnd_id': {'type': 'literal', 'value': '117655988'}, 'wikidata_uri': {'type': 'uri', 'value': 'http://www.wikidata.org/entity/Q95203'}, 'viaf_id': {'type': 'literal', 'value': '13090207'}, 'viaf_uri': {'type': 'uri', 'value': 'https://viaf.org/viaf/13090207'}}\n",
            "{'gnd_id': {'type': 'literal', 'value': '1020248807'}, 'wikidata_uri': {'type': 'uri', 'value': 'http://www.wikidata.org/entity/Q96225'}, 'viaf_id': {'type': 'literal', 'value': '84859525'}, 'viaf_uri': {'type': 'uri', 'value': 'https://viaf.org/viaf/84859525'}}\n",
            "{'gnd_id': {'type': 'literal', 'value': '116106409'}, 'wikidata_uri': {'type': 'uri', 'value': 'http://www.wikidata.org/entity/Q96341'}, 'viaf_id': {'type': 'literal', 'value': '755210'}, 'viaf_uri': {'type': 'uri', 'value': 'https://viaf.org/viaf/755210'}}\n",
            "{'gnd_id': {'type': 'literal', 'value': '116089067'}, 'wikidata_uri': {'type': 'uri', 'value': 'http://www.wikidata.org/entity/Q97522'}, 'viaf_id': {'type': 'literal', 'value': '57357315'}, 'viaf_uri': {'type': 'uri', 'value': 'https://viaf.org/viaf/57357315'}}\n",
            "{'gnd_id': {'type': 'literal', 'value': '118846493'}, 'wikidata_uri': {'type': 'uri', 'value': 'http://www.wikidata.org/entity/Q5454'}, 'viaf_id': {'type': 'literal', 'value': '56783361'}, 'viaf_uri': {'type': 'uri', 'value': 'https://viaf.org/viaf/56783361'}}\n",
            "{'gnd_id': {'type': 'literal', 'value': '118846493'}, 'wikidata_uri': {'type': 'uri', 'value': 'http://www.wikidata.org/entity/Q5454'}, 'viaf_id': {'type': 'literal', 'value': '8765158792861239040002'}, 'viaf_uri': {'type': 'uri', 'value': 'https://viaf.org/viaf/8765158792861239040002'}}\n",
            "{'gnd_id': {'type': 'literal', 'value': '131855549'}, 'wikidata_uri': {'type': 'uri', 'value': 'http://www.wikidata.org/entity/Q15803'}, 'viaf_id': {'type': 'literal', 'value': '9935574'}, 'viaf_uri': {'type': 'uri', 'value': 'https://viaf.org/viaf/9935574'}}\n",
            "{'gnd_id': {'type': 'literal', 'value': '130122955'}, 'wikidata_uri': {'type': 'uri', 'value': 'http://www.wikidata.org/entity/Q15944'}, 'viaf_id': {'type': 'literal', 'value': '62646722'}, 'viaf_uri': {'type': 'uri', 'value': 'https://viaf.org/viaf/62646722'}}\n",
            "http://www.intavia.eu/apis/personproxy/34102 <same as> https://viaf.org/viaf/5708406\n",
            "http://www.intavia.eu/apis/personproxy/50449 <same as> https://viaf.org/viaf/35201531\n",
            "http://www.intavia.eu/apis/personproxy/74033 <same as> https://viaf.org/viaf/13090207\n",
            "http://www.intavia.eu/apis/personproxy/60521 <same as> https://viaf.org/viaf/84859525\n",
            "http://www.intavia.eu/apis/personproxy/89549 <same as> https://viaf.org/viaf/755210\n",
            "http://www.intavia.eu/apis/personproxy/86228 <same as> https://viaf.org/viaf/57357315\n",
            "http://www.intavia.eu/apis/personproxy/90328 <same as> https://viaf.org/viaf/56783361\n",
            "http://www.intavia.eu/apis/personproxy/90328 <same as> https://viaf.org/viaf/8765158792861239040002\n",
            "http://www.intavia.eu/apis/personproxy/74483 <same as> https://viaf.org/viaf/9935574\n",
            "http://www.intavia.eu/apis/personproxy/88034 <same as> https://viaf.org/viaf/62646722\n",
            "7751 results\n",
            "{'sbi_id': {'type': 'literal', 'value': '1000090'}, 'wikidata_uri': {'type': 'uri', 'value': 'http://www.wikidata.org/entity/Q713658'}}\n",
            "{'sbi_id': {'type': 'literal', 'value': '1006590'}, 'wikidata_uri': {'type': 'uri', 'value': 'http://www.wikidata.org/entity/Q12791601'}}\n",
            "{'sbi_id': {'type': 'literal', 'value': '198007'}, 'wikidata_uri': {'type': 'uri', 'value': 'http://www.wikidata.org/entity/Q60757583'}}\n",
            "{'sbi_id': {'type': 'literal', 'value': '1001150'}, 'wikidata_uri': {'type': 'uri', 'value': 'http://www.wikidata.org/entity/Q18642956'}}\n",
            "{'sbi_id': {'type': 'literal', 'value': '1002410'}, 'wikidata_uri': {'type': 'uri', 'value': 'http://www.wikidata.org/entity/Q12792793'}}\n",
            "{'sbi_id': {'type': 'literal', 'value': '1021260'}, 'wikidata_uri': {'type': 'uri', 'value': 'http://www.wikidata.org/entity/Q63121796'}}\n",
            "{'sbi_id': {'type': 'literal', 'value': '143299'}, 'wikidata_uri': {'type': 'uri', 'value': 'http://www.wikidata.org/entity/Q61120527'}}\n",
            "{'sbi_id': {'type': 'literal', 'value': '161422'}, 'wikidata_uri': {'type': 'uri', 'value': 'http://www.wikidata.org/entity/Q90189'}}\n",
            "{'sbi_id': {'type': 'literal', 'value': '198322'}, 'wikidata_uri': {'type': 'uri', 'value': 'http://www.wikidata.org/entity/Q21548131'}}\n",
            "{'sbi_id': {'type': 'literal', 'value': '617926'}, 'wikidata_uri': {'type': 'uri', 'value': 'http://www.wikidata.org/entity/Q60167353'}}\n",
            "http://www.intavia.eu/sbi/personproxy/sbi1000090 <same as> http://www.wikidata.org/entity/Q713658\n",
            "http://www.intavia.eu/sbi/personproxy/sbi1006590 <same as> http://www.wikidata.org/entity/Q12791601\n",
            "http://www.intavia.eu/sbi/personproxy/sbi198007 <same as> http://www.wikidata.org/entity/Q60757583\n",
            "http://www.intavia.eu/sbi/personproxy/sbi1001150 <same as> http://www.wikidata.org/entity/Q18642956\n",
            "http://www.intavia.eu/sbi/personproxy/sbi1002410 <same as> http://www.wikidata.org/entity/Q12792793\n",
            "http://www.intavia.eu/sbi/personproxy/sbi1021260 <same as> http://www.wikidata.org/entity/Q63121796\n",
            "http://www.intavia.eu/sbi/personproxy/sbi143299 <same as> http://www.wikidata.org/entity/Q61120527\n",
            "http://www.intavia.eu/sbi/personproxy/sbi161422 <same as> http://www.wikidata.org/entity/Q90189\n",
            "http://www.intavia.eu/sbi/personproxy/sbi198322 <same as> http://www.wikidata.org/entity/Q21548131\n",
            "http://www.intavia.eu/sbi/personproxy/sbi617926 <same as> http://www.wikidata.org/entity/Q60167353\n",
            "1707 results\n",
            "{'sbi_id': {'type': 'literal', 'value': '254562'}, 'wikidata_uri': {'type': 'uri', 'value': 'http://www.wikidata.org/entity/Q15803'}, 'gnd_id': {'type': 'literal', 'value': '131855549'}, 'gnd_uri': {'type': 'uri', 'value': 'https://d-nb.info/gnd/131855549'}}\n",
            "{'sbi_id': {'type': 'literal', 'value': '193289'}, 'wikidata_uri': {'type': 'uri', 'value': 'http://www.wikidata.org/entity/Q72975'}, 'gnd_id': {'type': 'literal', 'value': '118693719'}, 'gnd_uri': {'type': 'uri', 'value': 'https://d-nb.info/gnd/118693719'}}\n",
            "{'sbi_id': {'type': 'literal', 'value': '161422'}, 'wikidata_uri': {'type': 'uri', 'value': 'http://www.wikidata.org/entity/Q90189'}, 'gnd_id': {'type': 'literal', 'value': '116680989'}, 'gnd_uri': {'type': 'uri', 'value': 'https://d-nb.info/gnd/116680989'}}\n",
            "{'sbi_id': {'type': 'literal', 'value': '227919'}, 'wikidata_uri': {'type': 'uri', 'value': 'http://www.wikidata.org/entity/Q94372'}, 'gnd_id': {'type': 'literal', 'value': '100977693'}, 'gnd_uri': {'type': 'uri', 'value': 'https://d-nb.info/gnd/100977693'}}\n",
            "{'sbi_id': {'type': 'literal', 'value': '136088'}, 'wikidata_uri': {'type': 'uri', 'value': 'http://www.wikidata.org/entity/Q335092'}, 'gnd_id': {'type': 'literal', 'value': '118507222'}, 'gnd_uri': {'type': 'uri', 'value': 'https://d-nb.info/gnd/118507222'}}\n",
            "{'sbi_id': {'type': 'literal', 'value': '132240'}, 'wikidata_uri': {'type': 'uri', 'value': 'http://www.wikidata.org/entity/Q588124'}, 'gnd_id': {'type': 'literal', 'value': '118849409'}, 'gnd_uri': {'type': 'uri', 'value': 'https://d-nb.info/gnd/118849409'}}\n",
            "{'sbi_id': {'type': 'literal', 'value': '305548'}, 'wikidata_uri': {'type': 'uri', 'value': 'http://www.wikidata.org/entity/Q694197'}, 'gnd_id': {'type': 'literal', 'value': '100089003'}, 'gnd_uri': {'type': 'uri', 'value': 'https://d-nb.info/gnd/100089003'}}\n",
            "{'sbi_id': {'type': 'literal', 'value': '228885'}, 'wikidata_uri': {'type': 'uri', 'value': 'http://www.wikidata.org/entity/Q700720'}, 'gnd_id': {'type': 'literal', 'value': '118710656'}, 'gnd_uri': {'type': 'uri', 'value': 'https://d-nb.info/gnd/118710656'}}\n",
            "{'sbi_id': {'type': 'literal', 'value': '1000090'}, 'wikidata_uri': {'type': 'uri', 'value': 'http://www.wikidata.org/entity/Q713658'}, 'gnd_id': {'type': 'literal', 'value': '118643762'}, 'gnd_uri': {'type': 'uri', 'value': 'https://d-nb.info/gnd/118643762'}}\n",
            "{'sbi_id': {'type': 'literal', 'value': '313551'}, 'wikidata_uri': {'type': 'uri', 'value': 'http://www.wikidata.org/entity/Q1449669'}, 'gnd_id': {'type': 'literal', 'value': '1017735131'}, 'gnd_uri': {'type': 'uri', 'value': 'https://d-nb.info/gnd/1017735131'}}\n",
            "http://www.intavia.eu/sbi/personproxy/sbi254562 <same as> https://d-nb.info/gnd/131855549\n",
            "http://www.intavia.eu/sbi/personproxy/sbi193289 <same as> https://d-nb.info/gnd/118693719\n",
            "http://www.intavia.eu/sbi/personproxy/sbi161422 <same as> https://d-nb.info/gnd/116680989\n",
            "http://www.intavia.eu/sbi/personproxy/sbi227919 <same as> https://d-nb.info/gnd/100977693\n",
            "http://www.intavia.eu/sbi/personproxy/sbi136088 <same as> https://d-nb.info/gnd/118507222\n",
            "http://www.intavia.eu/sbi/personproxy/sbi132240 <same as> https://d-nb.info/gnd/118849409\n",
            "http://www.intavia.eu/sbi/personproxy/sbi305548 <same as> https://d-nb.info/gnd/100089003\n",
            "http://www.intavia.eu/sbi/personproxy/sbi228885 <same as> https://d-nb.info/gnd/118710656\n",
            "http://www.intavia.eu/sbi/personproxy/sbi1000090 <same as> https://d-nb.info/gnd/118643762\n",
            "http://www.intavia.eu/sbi/personproxy/sbi313551 <same as> https://d-nb.info/gnd/1017735131\n",
            "3951 results\n",
            "{'sbi_id': {'type': 'literal', 'value': '575025'}, 'wikidata_uri': {'type': 'uri', 'value': 'http://www.wikidata.org/entity/Q5345'}, 'viaf_id': {'type': 'literal', 'value': '250636237'}, 'viaf_uri': {'type': 'uri', 'value': 'https://viaf.org/viaf/250636237'}}\n",
            "{'sbi_id': {'type': 'literal', 'value': '254562'}, 'wikidata_uri': {'type': 'uri', 'value': 'http://www.wikidata.org/entity/Q15803'}, 'viaf_id': {'type': 'literal', 'value': '9935574'}, 'viaf_uri': {'type': 'uri', 'value': 'https://viaf.org/viaf/9935574'}}\n",
            "{'sbi_id': {'type': 'literal', 'value': '193289'}, 'wikidata_uri': {'type': 'uri', 'value': 'http://www.wikidata.org/entity/Q72975'}, 'viaf_id': {'type': 'literal', 'value': '51787739'}, 'viaf_uri': {'type': 'uri', 'value': 'https://viaf.org/viaf/51787739'}}\n",
            "{'sbi_id': {'type': 'literal', 'value': '161422'}, 'wikidata_uri': {'type': 'uri', 'value': 'http://www.wikidata.org/entity/Q90189'}, 'viaf_id': {'type': 'literal', 'value': '264262998'}, 'viaf_uri': {'type': 'uri', 'value': 'https://viaf.org/viaf/264262998'}}\n",
            "{'sbi_id': {'type': 'literal', 'value': '227919'}, 'wikidata_uri': {'type': 'uri', 'value': 'http://www.wikidata.org/entity/Q94372'}, 'viaf_id': {'type': 'literal', 'value': '10203934'}, 'viaf_uri': {'type': 'uri', 'value': 'https://viaf.org/viaf/10203934'}}\n",
            "{'sbi_id': {'type': 'literal', 'value': '136088'}, 'wikidata_uri': {'type': 'uri', 'value': 'http://www.wikidata.org/entity/Q335092'}, 'viaf_id': {'type': 'literal', 'value': '34465549'}, 'viaf_uri': {'type': 'uri', 'value': 'https://viaf.org/viaf/34465549'}}\n",
            "{'sbi_id': {'type': 'literal', 'value': '132240'}, 'wikidata_uri': {'type': 'uri', 'value': 'http://www.wikidata.org/entity/Q588124'}, 'viaf_id': {'type': 'literal', 'value': '52486746'}, 'viaf_uri': {'type': 'uri', 'value': 'https://viaf.org/viaf/52486746'}}\n",
            "{'sbi_id': {'type': 'literal', 'value': '305548'}, 'wikidata_uri': {'type': 'uri', 'value': 'http://www.wikidata.org/entity/Q694197'}, 'viaf_id': {'type': 'literal', 'value': '24940596'}, 'viaf_uri': {'type': 'uri', 'value': 'https://viaf.org/viaf/24940596'}}\n",
            "{'sbi_id': {'type': 'literal', 'value': '305548'}, 'wikidata_uri': {'type': 'uri', 'value': 'http://www.wikidata.org/entity/Q694197'}, 'viaf_id': {'type': 'literal', 'value': '265719076'}, 'viaf_uri': {'type': 'uri', 'value': 'https://viaf.org/viaf/265719076'}}\n",
            "{'sbi_id': {'type': 'literal', 'value': '228885'}, 'wikidata_uri': {'type': 'uri', 'value': 'http://www.wikidata.org/entity/Q700720'}, 'viaf_id': {'type': 'literal', 'value': '54418011'}, 'viaf_uri': {'type': 'uri', 'value': 'https://viaf.org/viaf/54418011'}}\n",
            "http://www.intavia.eu/sbi/personproxy/sbi575025 <same as> https://viaf.org/viaf/250636237\n",
            "http://www.intavia.eu/sbi/personproxy/sbi254562 <same as> https://viaf.org/viaf/9935574\n",
            "http://www.intavia.eu/sbi/personproxy/sbi193289 <same as> https://viaf.org/viaf/51787739\n",
            "http://www.intavia.eu/sbi/personproxy/sbi161422 <same as> https://viaf.org/viaf/264262998\n",
            "http://www.intavia.eu/sbi/personproxy/sbi227919 <same as> https://viaf.org/viaf/10203934\n",
            "http://www.intavia.eu/sbi/personproxy/sbi136088 <same as> https://viaf.org/viaf/34465549\n",
            "http://www.intavia.eu/sbi/personproxy/sbi132240 <same as> https://viaf.org/viaf/52486746\n",
            "http://www.intavia.eu/sbi/personproxy/sbi305548 <same as> https://viaf.org/viaf/24940596\n",
            "http://www.intavia.eu/sbi/personproxy/sbi305548 <same as> https://viaf.org/viaf/265719076\n",
            "http://www.intavia.eu/sbi/personproxy/sbi228885 <same as> https://viaf.org/viaf/54418011\n",
            "72454\n"
          ]
        },
        {
          "output_type": "execute_result",
          "data": {
            "text/plain": [
              "<Graph identifier=Nd370b03730394d1c8401f990953f15df (<class 'rdflib.graph.Graph'>)>"
            ]
          },
          "metadata": {},
          "execution_count": 65
        }
      ]
    },
    {
      "cell_type": "code",
      "source": [
        "from google.colab import files\n",
        "files.download(\"intavia-person-id-enrichment.ttl\")"
      ],
      "metadata": {
        "colab": {
          "base_uri": "https://localhost:8080/",
          "height": 17
        },
        "id": "Y8YkU9cMijis",
        "outputId": "8deba2d7-105a-4031-e18c-dc12d3bf52c8"
      },
      "execution_count": 66,
      "outputs": [
        {
          "output_type": "display_data",
          "data": {
            "text/plain": [
              "<IPython.core.display.Javascript object>"
            ],
            "application/javascript": [
              "\n",
              "    async function download(id, filename, size) {\n",
              "      if (!google.colab.kernel.accessAllowed) {\n",
              "        return;\n",
              "      }\n",
              "      const div = document.createElement('div');\n",
              "      const label = document.createElement('label');\n",
              "      label.textContent = `Downloading \"${filename}\": `;\n",
              "      div.appendChild(label);\n",
              "      const progress = document.createElement('progress');\n",
              "      progress.max = size;\n",
              "      div.appendChild(progress);\n",
              "      document.body.appendChild(div);\n",
              "\n",
              "      const buffers = [];\n",
              "      let downloaded = 0;\n",
              "\n",
              "      const channel = await google.colab.kernel.comms.open(id);\n",
              "      // Send a message to notify the kernel that we're ready.\n",
              "      channel.send({})\n",
              "\n",
              "      for await (const message of channel.messages) {\n",
              "        // Send a message to notify the kernel that we're ready.\n",
              "        channel.send({})\n",
              "        if (message.buffers) {\n",
              "          for (const buffer of message.buffers) {\n",
              "            buffers.push(buffer);\n",
              "            downloaded += buffer.byteLength;\n",
              "            progress.value = downloaded;\n",
              "          }\n",
              "        }\n",
              "      }\n",
              "      const blob = new Blob(buffers, {type: 'application/binary'});\n",
              "      const a = document.createElement('a');\n",
              "      a.href = window.URL.createObjectURL(blob);\n",
              "      a.download = filename;\n",
              "      div.appendChild(a);\n",
              "      a.click();\n",
              "      div.remove();\n",
              "    }\n",
              "  "
            ]
          },
          "metadata": {}
        },
        {
          "output_type": "display_data",
          "data": {
            "text/plain": [
              "<IPython.core.display.Javascript object>"
            ],
            "application/javascript": [
              "download(\"download_a90384bd-0183-4024-853a-8dca765e0a2c\", \"intavia-person-id-enrichment.ttl\", 5602530)"
            ]
          },
          "metadata": {}
        }
      ]
    }
  ]
}